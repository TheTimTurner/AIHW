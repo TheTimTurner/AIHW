{
 "cells": [
  {
   "cell_type": "markdown",
   "metadata": {},
   "source": [
    "# Programming Assignment 4: Sentiment analysis with SVM"
   ]
  },
  {
   "cell_type": "markdown",
   "metadata": {},
   "source": [
    "In this programming assignment, we will revisit the problem of sensiment analysis, but using a different approach. Recall that the task is to predict the *sentiment* (positive or negative) of a single sentence taken from a review of a movie, restaurant, or product. The data set consists of 3000 labeled sentences, which we divide into a training set of size 2500 and a test set of size 500. Previously we found a logistic regression classifier. Today we will use a support vector machine.\n",
    "\n",
    "Make sure the notebook is in the same folder that contains `full_set.txt`."
   ]
  },
  {
   "cell_type": "markdown",
   "metadata": {},
   "source": [
    "## 1. Load and preprocess data"
   ]
  },
  {
   "cell_type": "code",
   "execution_count": 87,
   "metadata": {},
   "outputs": [],
   "source": [
    "%matplotlib inline\n",
    "import string\n",
    "import numpy as np\n",
    "import matplotlib\n",
    "import matplotlib.pyplot as plt\n",
    "matplotlib.rc('xtick', labelsize=14) \n",
    "matplotlib.rc('ytick', labelsize=14)"
   ]
  },
  {
   "cell_type": "markdown",
   "metadata": {},
   "source": [
    "The data set consists of 3000 sentences, each labeled '1' (if it came from a positive review) or '0' (if it came from a negative review). To be consistent with our notation from lecture, we will change the negative review label to '-1'."
   ]
  },
  {
   "cell_type": "code",
   "execution_count": 88,
   "metadata": {},
   "outputs": [],
   "source": [
    "## Read in the data set.\n",
    "with open(\"full_set.txt\") as f:\n",
    "    content = f.readlines()\n",
    "    \n",
    "## Remove leading and trailing white space\n",
    "content = [x.strip() for x in content]\n",
    "\n",
    "## Separate the sentences from the labels\n",
    "sentences = [x.split(\"\\t\")[0] for x in content]\n",
    "labels = [x.split(\"\\t\")[1] for x in content]\n",
    "\n",
    "## Transform the labels from '0 v.s. 1' to '-1 v.s. 1'\n",
    "y = np.array(labels, dtype='int8')\n",
    "y = 2*y - 1"
   ]
  },
  {
   "cell_type": "markdown",
   "metadata": {},
   "source": [
    "### Preprocessing the text data\n",
    "\n",
    "To transform this prediction problem into one amenable to linear classification, we will first need to preprocess the text data. We will do four transformations:\n",
    "\n",
    "1. Remove punctuation and numbers.\n",
    "2. Transform all words to lower-case.\n",
    "3. Remove _stop words_.\n",
    "4. Convert the sentences into vectors, using a bag-of-words representation.\n",
    "\n",
    "We begin with first two steps."
   ]
  },
  {
   "cell_type": "code",
   "execution_count": 89,
   "metadata": {},
   "outputs": [],
   "source": [
    "## full_remove takes a string x and a list of characters removal_list \n",
    "## returns x with all the characters in removal_list replaced by ' '\n",
    "def full_remove(x, removal_list):\n",
    "    for w in removal_list:\n",
    "        x = x.replace(w, ' ')\n",
    "    return x\n",
    "\n",
    "## Remove digits\n",
    "digits = [str(x) for x in range(10)]\n",
    "digit_less = [full_remove(x, digits) for x in sentences]\n",
    "\n",
    "## Remove punctuation\n",
    "punc_less = [full_remove(x, list(string.punctuation)) for x in digit_less]\n",
    "\n",
    "## Make everything lower-case\n",
    "sents_lower = [x.lower() for x in punc_less]"
   ]
  },
  {
   "cell_type": "markdown",
   "metadata": {},
   "source": [
    "### Stop words\n",
    "\n",
    "Stop words are words that are filtered out because they are believed to contain no useful information for the task at hand. These usually include articles such as 'a' and 'the', pronouns such as 'i' and 'they', and prepositions such 'to' and 'from'. We have put together a very small list of stop words, but these are by no means comprehensive. Feel free to use something different; for instance, larger lists can easily be found on the web."
   ]
  },
  {
   "cell_type": "code",
   "execution_count": 90,
   "metadata": {},
   "outputs": [],
   "source": [
    "## Define our stop words\n",
    "stop_set = set(['the', 'a', 'an', 'i', 'he', 'she', 'they', 'to', 'of', 'it', 'from'])\n",
    "\n",
    "## Remove stop words\n",
    "sents_split = [x.split() for x in sents_lower]\n",
    "sents_processed = [\" \".join(list(filter(lambda a: a not in stop_set, x))) for x in sents_split]"
   ]
  },
  {
   "cell_type": "markdown",
   "metadata": {},
   "source": [
    "### Bag of words\n",
    "\n",
    "In order to use linear classifiers on our data set, we need to transform our textual data into numeric data. The classical way to do this is known as the _bag of words_ representation. In this representation, each word is thought of as corresponding to a number in `{1, 2, ..., d}` where `d` is the size of our vocabulary. And each sentence is represented as a d-dimensional vector $x$, where $x_i$ is the number of times that word $i$ occurs in the sentence.\n",
    "\n",
    "To do this transformation, we will make use of the `CountVectorizer` class in `scikit-learn` (Note that this is the only time you can call an external function from scikit-learn). We will cap the number of features at 4500, meaning a word will make it into our vocabulary only if it is one of the 4500 most common words in the corpus. This is often a useful step as it can weed out spelling mistakes and words which occur too infrequently to be useful.\n",
    "\n",
    "Once we get the bag-of-words representation, append a '1' to the beginning of each vector to allow our linear classifier to learn a bias term."
   ]
  },
  {
   "cell_type": "code",
   "execution_count": 91,
   "metadata": {},
   "outputs": [
    {
     "name": "stdout",
     "output_type": "stream",
     "text": [
      "The original size:  (3000, 4500)\n"
     ]
    }
   ],
   "source": [
    "from sklearn.feature_extraction.text import CountVectorizer\n",
    "\n",
    "## Transform to bag of words representation.\n",
    "vectorizer = CountVectorizer(analyzer = \"word\", tokenizer = None, preprocessor = None, stop_words = None, max_features = 4500)\n",
    "data_features = vectorizer.fit_transform(sents_processed)\n",
    "data_mat = data_features.toarray()\n",
    "print ('The original size: ',data_features.shape)"
   ]
  },
  {
   "cell_type": "markdown",
   "metadata": {},
   "source": [
    "### Training / test split\n",
    "\n",
    "Finally, we split the data into a training set of 2500 sentences and a test set of 500 sentences (of which 250 are positive and 250 negative)."
   ]
  },
  {
   "cell_type": "code",
   "execution_count": 92,
   "metadata": {},
   "outputs": [
    {
     "name": "stdout",
     "output_type": "stream",
     "text": [
      "train data:  (2500, 4500)\n",
      "test data:  (500, 4500)\n"
     ]
    }
   ],
   "source": [
    "## Split the data into testing and training sets\n",
    "np.random.seed(0)\n",
    "test_inds = np.append(np.random.choice((np.where(y==-1))[0], 250, replace=False), np.random.choice((np.where(y==1))[0], 250, replace=False))\n",
    "train_inds = list(set(range(len(labels))) - set(test_inds))\n",
    "\n",
    "train_data = data_mat[train_inds,]\n",
    "train_labels = y[train_inds]\n",
    "\n",
    "test_data = data_mat[test_inds,]\n",
    "test_labels = y[test_inds]\n",
    "\n",
    "print(\"train data: \", train_data.shape)\n",
    "print(\"test data: \", test_data.shape)"
   ]
  },
  {
   "cell_type": "markdown",
   "metadata": {},
   "source": [
    "## 2. Solving for soft-margin SVM\n",
    "\n",
    "\n",
    "Recall that support vector machine (SVM) finds a linear decision boundary with the largest margin for a binary classification problem. Suppose we have a training dataset $\\{(x_{1},y_1),...,(x_n,y_n)\\}$\n",
    "where $x_{i} \\in \\mathbb{R}^{d}$ are feature vectors and $y_i\\in\\{-1,+1\\}$ are labels.  The linear classifier is parametrized by $\\theta\\in \\mathbb{R}^{d}$ and $\\theta_0\\in\\mathbb{R}$, and predicts +1 at a point $x$ if $\\theta\\cdot x+\\theta_0>0$ and -1 otherwise. \n",
    "\n",
    "It turns out that the soft-margin SVM optimization is equivalent to the following unconstrained optimization:\n",
    "$$\\underset{\\theta\\in\\mathbb{R}^d,\\theta\\in\\mathbb{R}}{\\text{min}}\\|\\theta\\|^2+C\\sum_{i=1}^n\\ell_{\\mathrm{hinge}}(y_i(\\theta\\cdot x_i+\\theta_0))$$\n",
    "where  $\\ell_{\\mathrm{hinge}}(t)=\\max(0,1-t)$ is called the ``hinge loss,'' which takes value $1-t$ if $t<1$ and 0 otherwise. For example, $\\ell_{\\mathrm{hinge}}(-1)=2$, and $\\ell_{\\mathrm{hinge}}(2)=0$. \n"
   ]
  },
  {
   "cell_type": "markdown",
   "metadata": {},
   "source": [
    "It turns out that for gradient-based optimization, hinge loss may be difficult to deal with because it is not differentiable at point $t=1$. One solution is to use the ``smoothed version'' of hinge loss:\n",
    "\n",
    "$$\\ell_{\\mathrm{smooth-hinge}}(t) = \\begin{cases}\n",
    "\\frac{1}{2} - t      & \\text{if} ~~ t \\le 0, \\\\\n",
    "\\frac{1}{2} (1 - t)^2 & \\text{if} ~~ 0 < t < 1, \\\\\n",
    "0                      & \\text{if} ~~ 1 \\le t\n",
    "\\end{cases}$$\n",
    "\n",
    "\n",
    "Thus, in the rest of the problem, we will consider the following optimization:\n",
    "$$\\underset{\\theta\\in\\mathbb{R}^d,\\theta\\in\\mathbb{R}}{\\text{min}}\\|\\theta\\|^2+C\\sum_{i=1}^n\\ell_{\\mathrm{smooth-hinge}}(y_i(\\theta\\cdot x_i+\\theta_0))$$"
   ]
  },
  {
   "cell_type": "markdown",
   "metadata": {},
   "source": [
    "**Task P2:** Implement the hinge loss function and the smooth hinge loss function. Plot the function $\\ell_{\\mathrm{hinge}}(t)$ and $\\ell_{\\mathrm{smooth-hinge}}(t)$for $t\\in[-5,5]$."
   ]
  },
  {
   "cell_type": "code",
   "execution_count": 93,
   "metadata": {},
   "outputs": [
    {
     "data": {
      "image/png": "[encoded data removed]",
      "text/plain": [
       "<matplotlib.figure.Figure at 0x15f9b2c2c18>"
      ]
     },
     "metadata": {},
     "output_type": "display_data"
    },
    {
     "data": {
      "image/png": "[encoded data removed]",
      "text/plain": [
       "<matplotlib.figure.Figure at 0x15f9a6dfcc0>"
      ]
     },
     "metadata": {},
     "output_type": "display_data"
    }
   ],
   "source": [
    "### STUDENT: Start of code ###\n",
    "def hinge_loss_smooth(t):\n",
    "       \n",
    "    if (t<=0):\n",
    "        return ((1/2)-t)\n",
    "    elif(t>0 and t<1):\n",
    "        return (1/2)*(pow((1-t),2))\n",
    "    else:\n",
    "        return (0)\n",
    "\n",
    "def hinge_loss(t):\n",
    "    \n",
    "    if (t<1):\n",
    "        return (1-t)\n",
    "    else :\n",
    "        return (0)\n",
    "        \n",
    "x = []\n",
    "sh = [0]*500\n",
    "h = [0]*500\n",
    "for i in range(500):\n",
    "    t = (i-250)/50\n",
    "    x.append(t)\n",
    "    sh[i]=(hinge_loss_smooth(t))\n",
    "    h[i]=(hinge_loss(t))\n",
    "    \n",
    "    \n",
    "        \n",
    "plt.plot(x,sh)\n",
    "plt.title('smooth hinge')\n",
    "plt.ylabel('hinge value')\n",
    "plt.xlabel('t value')\n",
    "plt.show()\n",
    "\n",
    "\n",
    "plt.plot(x,h)\n",
    "plt.title('hinge')\n",
    "plt.ylabel('hinge value')\n",
    "plt.xlabel('t value')\n",
    "plt.show()\n",
    "\n",
    "\n",
    "### End of code ###"
   ]
  },
  {
   "cell_type": "markdown",
   "metadata": {},
   "source": [
    "**Task P5:** Let $f(\\theta,\\theta_0)= \\|\\theta\\|^2+C\\sum_{i=1}^n\\ell_{\\mathrm{smooth-hinge}}(y_i(\\theta\\cdot x_i+\\theta_0))$ be the objective function of the optimization problem we want to solve. Implement the function that obtains the partial derivative $\\frac{\\partial }{\\partial \\theta}f(\\theta,\\theta_0)$ and $\\frac{\\partial }{\\partial \\theta_0}f(\\theta,\\theta_0)$. Also, print out the output of the code that calculates the derivatives at $\\theta=1$ and $\\theta_0=1$ with $C=1$.\n",
    "\n",
    "Hint: you need to calculate the partial derivative of the smoothed hinge loss for each data point separately, and add them together to obtain the result."
   ]
  },
  {
   "cell_type": "code",
   "execution_count": 195,
   "metadata": {},
   "outputs": [],
   "source": [
    "\n",
    "def weight_derivative(theta, theta0, C, feature_matrix, labels):\n",
    "    # Input:\n",
    "    # theta: weight vector theta, a numpy vector of dimension d\n",
    "    # theta0: intercept theta0, a numpy vector of dimension 1\n",
    "    # C: constant C\n",
    "    # feature_matrix: numpy array of size n by d, where n is the number of data points, and d is the feature dimension\n",
    "    # labels: true labels y, a numpy vector of dimension d, each with value -1 or +1\n",
    "    # Output:\n",
    "    # Derivative of the cost function with respect to the weight theta, grad_theta\n",
    "    # Derivative of the cost function with respect to the weight theta0, grad_theta0\n",
    "    \n",
    "    \n",
    "    ## STUDENT: Start of code ###\n",
    "    score_matrix = (feature_matrix.dot(theta) + theta0)  * labels\n",
    "    \n",
    "    feature_matrix1=np.array([np.zeros(4500)]*2500)\n",
    "    feature_matrix2=np.array([np.zeros(4500)]*2500)\n",
    "    \n",
    "    for i in range(len(score_matrix)):\n",
    "        if score_matrix[i]<=0:\n",
    "            feature_matrix1[i] = feature_matrix[i]\n",
    "        elif score_matrix[i]<1:\n",
    "            feature_matrix2[i] = feature_matrix[i]\n",
    "    \n",
    "    \n",
    "    grad_theta =  2*theta-C*((feature_matrix1).T).dot(labels)-C*((feature_matrix2).T).dot(labels*(1-(feature_matrix2.dot(theta)+theta0)*labels))\n",
    "    grad_theta0 = -C*labels - C*((feature_matrix2).T).dot(labels*(1-(feature_matrix2.dot(theta)+theta0)*labels))\n",
    "    \n",
    "    \n",
    "    return grad_theta, grad_theta0\n",
    "    # End of code ###"
   ]
  },
  {
   "cell_type": "code",
   "execution_count": 196,
   "metadata": {},
   "outputs": [
    {
     "name": "stdout",
     "output_type": "stream",
     "text": [
      "[2.   2.05 2.05 2.1  2.05 2.05 3.8  2.15 2.   2.  ]\n",
      "[nan nan nan ... nan nan nan]\n"
     ]
    },
    {
     "name": "stderr",
     "output_type": "stream",
     "text": [
      "C:\\Users\\kuent\\Anaconda3\\lib\\site-packages\\ipykernel_launcher.py:28: RuntimeWarning: invalid value encountered in sqrt\n"
     ]
    }
   ],
   "source": [
    "# STUDENT: PRINT THE OUTPUT AND COPY IT TO THE SOLUTION FILE\n",
    "theta = np.ones(data_mat.shape[1]) # a weight of all 1s\n",
    "\n",
    "theta0 = np.ones(1) # a number 1\n",
    "C = 0.05\n",
    "grad_theta, grad_theta0 = weight_derivative(theta, theta0, C,train_data,train_labels)\n",
    "\n",
    "print (grad_theta[:10])\n",
    "print (grad_theta0)\n"
   ]
  },
  {
   "cell_type": "markdown",
   "metadata": {},
   "source": [
    "**Task P6:**  For sentiment analysis data, choose a value for the trade-off parameter $C$. Report the training error at convergence and the testing error. \n",
    "\n",
    "Note:  you can just use the same gradient descent algorithm that we wrote in assignment 2, or use the adam_optimizer provided below.\n",
    "\n",
    "Here is an [article](https://towardsdatascience.com/adam-latest-trends-in-deep-learning-optimization-6be9a291375c#:~:text=Adam%20%5B1%5D%20is%20an%20adaptive,for%20training%20deep%20neural%20networks.&text=The%20algorithms%20leverages%20the,learning%20rates%20for%20each%20parameter) on the Adam optimizer."
   ]
  },
  {
   "cell_type": "code",
   "execution_count": 189,
   "metadata": {},
   "outputs": [],
   "source": [
    "def objective(feature_matrix, labels, theta,theta0, C):\n",
    "    score = (feature_matrix.dot(theta)+theta0)*labels\n",
    "    return np.sum(theta**2)+C*np.sum([hinge_loss_smooth(t) for t in score])"
   ]
  },
  {
   "cell_type": "code",
   "execution_count": 190,
   "metadata": {},
   "outputs": [],
   "source": [
    "def adam_optimizer(feature_matrix, labels, initial_theta,initial_theta0, C, step_size=0.01, tolerence=0.01, b1=0.9, b2=0.999, eps=10**-8):\n",
    "    # Gradient descent algorithm for logistic regression problem    \n",
    "    \n",
    "    # Input:\n",
    "    # feature_matrix: numpy array of size n by d, where n is the number of data points, and d is the feature dimension\n",
    "    # labels: true labels y, a numpy vector of dimension d\n",
    "    # initial_theta: initial theta to start with, a numpy vector of dimension d\n",
    "    # initial_theta0: initial theta0 to start with, a numpy vector of dimension 1\n",
    "    # step_size: step size of update\n",
    "    # tolerance: tolerace epsilon for stopping condition\n",
    "    # Parameters by Adam optimizer\n",
    "    # Output:\n",
    "    # Weights obtained after convergence\n",
    "\n",
    "    converged = False \n",
    "    m = np.zeros(len(initial_theta))\n",
    "    v = np.zeros(len(initial_theta))\n",
    "    m0 = np.zeros(1)\n",
    "    v0 = np.zeros(1)\n",
    "    theta = np.array(initial_theta) # current iterate\n",
    "    theta0 = np.array(initial_theta0) # current iterate\n",
    "    i = 0\n",
    "    while not converged:\n",
    "        # impelementation of what the gradient descent algorithm does in every iteration\n",
    "        # Refer back to the update rule listed above: update the weight\n",
    "        i += 1\n",
    "        grad_theta, grad_theta0  = weight_derivative(theta, theta0, C,feature_matrix, labels)\n",
    "        \n",
    "        m = (1 - b1) * grad_theta      + b1 * m  # First  moment estimate.\n",
    "        v = (1 - b2) * (grad_theta**2) + b2 * v  # Second moment estimate.\n",
    "        mhat = m / (1 - b1**(i + 1))    # Bias correction.\n",
    "        vhat = v / (1 - b2**(i + 1))\n",
    "        theta = theta - step_size*mhat/(np.sqrt(vhat) + eps)\n",
    "        \n",
    "        m0 = (1 - b1) * grad_theta0      + b1 * m0  # First  moment estimate.\n",
    "        v0 = (1 - b2) * (grad_theta0**2) + b2 * v0  # Second moment estimate.\n",
    "        mhat0 = m0 / (1 - b1**(i + 1))    # Bias correction.\n",
    "        vhat0 = v0 / (1 - b2**(i + 1))\n",
    "        theta0 = theta0 - step_size*mhat0/(np.sqrt(vhat0) + eps)\n",
    "        \n",
    "        # Compute the gradient magnitude:\n",
    "        \n",
    "        gradient_magnitude = np.sqrt(np.sum(grad_theta**2))\n",
    "        \n",
    "        # Check the stopping condition to decide whether you want to stop the iterations\n",
    "        \n",
    "        if gradient_magnitude < tolerance:\n",
    "            converged = True\n",
    "        \n",
    "        preds_train = model_predict(train_data,theta,theta0)\n",
    "\n",
    "        ## Compute errors\n",
    "        errs_train = np.sum((preds_train > 0.0) != (train_labels > 0.0))\n",
    "\n",
    "        print (\"Iteration: \",i,\"objective: \",objective(feature_matrix, labels, theta,theta0, C),\"tr err: \",float(errs_train)/len(train_labels),\"gradient_magnitude: \", gradient_magnitude) # for us to check about convergence\n",
    "        \n",
    "    return(theta, theta0)\n",
    "\n",
    "### End of code ###"
   ]
  },
  {
   "cell_type": "code",
   "execution_count": 191,
   "metadata": {},
   "outputs": [],
   "source": [
    "def model_predict(feature_matrix,theta,theta0):\n",
    "# Prediction made by SVM \n",
    "    \n",
    "    # Input:\n",
    "    # feature_matrix: numpy array of size n by d+1, where n is the number of data points, and d+1 is the feature dimension\n",
    "    #                 note we have included the dummy feature as the first column of the feature_matrix\n",
    "    # theta: weight theta, a numpy vector of dimension d\n",
    "    # theta0: weight theta0, a numpy vector of dimension 1\n",
    "    # Output:\n",
    "    # labels: predicted labels, a numpy vector of dimension n\n",
    "    \n",
    "    h =  feature_matrix.dot(theta)+theta0\n",
    "    y_h = (h >= 0)*2-1\n",
    "    \n",
    "    return y_h    "
   ]
  },
  {
   "cell_type": "code",
   "execution_count": 193,
   "metadata": {},
   "outputs": [
    {
     "name": "stdout",
     "output_type": "stream",
     "text": [
      "Iteration:  1 objective:  6132.002384737767 tr err:  0.5 gradient_magnitude:  881.9631511576887\n",
      "Iteration:  2 objective:  5901.298958462611 tr err:  0.4928 gradient_magnitude:  851.9168536152582\n",
      "Iteration:  3 objective:  8153.635347348822 tr err:  0.4156 gradient_magnitude:  874.2477459175442\n",
      "Iteration:  4 objective:  6070.666612871248 tr err:  0.3052 gradient_magnitude:  872.160573355283\n",
      "Iteration:  5 objective:  3942.8606332887957 tr err:  0.2136 gradient_magnitude:  642.6425885406783\n",
      "Iteration:  6 objective:  4497.444488751299 tr err:  0.282 gradient_magnitude:  164.40509587437742\n",
      "Iteration:  7 objective:  6083.321631328058 tr err:  0.364 gradient_magnitude:  325.3494131170822\n",
      "Iteration:  8 objective:  7130.767917665976 tr err:  0.4036 gradient_magnitude:  532.2129220342773\n",
      "Iteration:  9 objective:  7000.960018360936 tr err:  0.3888 gradient_magnitude:  610.8794208436875\n",
      "Iteration:  10 objective:  6241.668476222676 tr err:  0.3396 gradient_magnitude:  571.0675011093479\n",
      "Iteration:  11 objective:  5954.151158555325 tr err:  0.308 gradient_magnitude:  405.84488532404475\n",
      "Iteration:  12 objective:  6562.892402992044 tr err:  0.3112 gradient_magnitude:  181.52196274378022\n",
      "Iteration:  13 objective:  7533.982583178618 tr err:  0.3216 gradient_magnitude:  116.58842799744573\n",
      "Iteration:  14 objective:  8175.115649264161 tr err:  0.3352 gradient_magnitude:  227.48231688202014\n",
      "Iteration:  15 objective:  8312.116873190316 tr err:  0.3364 gradient_magnitude:  283.66536805716515\n",
      "Iteration:  16 objective:  8367.461112757133 tr err:  0.3452 gradient_magnitude:  238.6469133925518\n",
      "Iteration:  17 objective:  8810.18576488125 tr err:  0.3528 gradient_magnitude:  104.76755351473776\n",
      "Iteration:  18 objective:  9570.80713678517 tr err:  0.3656 gradient_magnitude:  103.04303967003725\n",
      "Iteration:  19 objective:  10363.460170691655 tr err:  0.3752 gradient_magnitude:  202.89997847481345\n",
      "Iteration:  20 objective:  10947.643468409531 tr err:  0.3844 gradient_magnitude:  264.48009481451095\n",
      "Iteration:  21 objective:  11292.067936615536 tr err:  0.3828 gradient_magnitude:  289.5247187573308\n",
      "Iteration:  22 objective:  11649.446618127276 tr err:  0.378 gradient_magnitude:  228.65844714092682\n",
      "Iteration:  23 objective:  12223.76087183676 tr err:  0.384 gradient_magnitude:  131.34245125809494\n",
      "Iteration:  24 objective:  12935.149558927964 tr err:  0.3888 gradient_magnitude:  63.647676451050415\n",
      "[-0.13397748  0.23881118 -0.52610802 ... -1.79137435 -0.07706427\n",
      " -0.22903722]\n",
      "[24.43469044]\n"
     ]
    }
   ],
   "source": [
    "# Initialize the weights, step size and tolerance\n",
    "# Start of code\n",
    "initial_theta = np.ones(data_mat.shape[1]) ## STUDENT: initialize theta\n",
    "initial_theta0 = 1   ## STUDENT: initialize theta0\n",
    "C =  1## STUDENT: choose the C\n",
    "step_size =  1## STUDENT: choose the step_size\n",
    "tolerance =  100## STUDENT: choose the tolerance\n",
    "\n",
    "# end of code\n",
    "\n",
    "theta, theta0 = adam_optimizer(train_data,train_labels, initial_theta, initial_theta0,C, step_size, tolerance)\n",
    "print (theta)\n",
    "print (theta0)"
   ]
  },
  {
   "cell_type": "code",
   "execution_count": 194,
   "metadata": {},
   "outputs": [
    {
     "name": "stdout",
     "output_type": "stream",
     "text": [
      "[24.43469044]\n",
      "Training error:  0.3888\n",
      "Test error:  0.414\n",
      "Training error:  0.3888\n",
      "Test error:  0.414\n"
     ]
    }
   ],
   "source": [
    "# STUDENT: copy the output of this section to the solution file\n",
    "\n",
    "## Get predictions on training and test data\n",
    "preds_train = model_predict(train_data,theta,theta0)\n",
    "preds_test = model_predict(test_data,theta,theta0)\n",
    "##\n",
    "##compute errors not working properly\n",
    "##\n",
    "def getError(preds_train,train_labels):\n",
    "    errs_train =  0\n",
    "    for i in range(len(preds_train)):\n",
    "        if((preds_train[i] > 0.0) and (train_labels[i] < 0.0)):\n",
    "            errs_train+=1\n",
    "        if((preds_train[i] < 0.0) and (train_labels[i] > 0.0)):\n",
    "            errs_train+=1\n",
    "            \n",
    "            \n",
    "    return errs_train\n",
    "\n",
    "## Compute errors\n",
    "\n",
    "errs_train = np.sum((preds_train > 0.0) != (train_labels > 0.0))\n",
    "errs_test = np.sum((preds_test > 0.0) != (test_labels > 0.0))\n",
    "print(theta0)\n",
    "\n",
    "error_train = getError(preds_train,train_labels)\n",
    "error_test = getError(preds_test,test_labels)\n",
    "\n",
    "print (\"Training error: \", float(errs_train)/len(train_labels))\n",
    "print (\"Test error: \", float(errs_test)/len(test_labels))\n",
    "\n",
    "print (\"Training error: \", float(error_train)/len(train_labels))\n",
    "print (\"Test error: \", float(error_test)/len(test_labels))"
   ]
  },
  {
   "cell_type": "markdown",
   "metadata": {},
   "source": [
    "**Task P7:**  List 4 example sentences that are correctly classified by SVM, and 4 example sentences that are  incorrectly classified by SVM. Explain what you have found."
   ]
  },
  {
   "cell_type": "code",
   "execution_count": 59,
   "metadata": {},
   "outputs": [],
   "source": [
    "# STUDENT: your code here\n"
   ]
  },
  {
   "cell_type": "code",
   "execution_count": null,
   "metadata": {},
   "outputs": [],
   "source": []
  }
 ],
 "metadata": {
  "anaconda-cloud": {},
  "kernelspec": {
   "display_name": "Python 3",
   "language": "python",
   "name": "python3"
  },
  "language_info": {
   "codemirror_mode": {
    "name": "ipython",
    "version": 3
   },
   "file_extension": ".py",
   "mimetype": "text/x-python",
   "name": "python",
   "nbconvert_exporter": "python",
   "pygments_lexer": "ipython3",
   "version": "3.6.4"
  },
  "toc": {
   "colors": {
    "hover_highlight": "#DAA520",
    "navigate_num": "#000000",
    "navigate_text": "#333333",
    "running_highlight": "#FF0000",
    "selected_highlight": "#FFD700",
    "sidebar_border": "#EEEEEE",
    "wrapper_background": "#FFFFFF"
   },
   "moveMenuLeft": true,
   "nav_menu": {
    "height": "12px",
    "width": "252px"
   },
   "navigate_menu": true,
   "number_sections": false,
   "sideBar": true,
   "threshold": 4,
   "toc_cell": false,
   "toc_section_display": "block",
   "toc_window_display": false,
   "widenNotebook": false
  }
 },
 "nbformat": 4,
 "nbformat_minor": 1
}
