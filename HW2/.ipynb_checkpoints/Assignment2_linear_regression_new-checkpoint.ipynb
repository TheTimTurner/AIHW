{
 "cells": [
  {
   "cell_type": "markdown",
   "metadata": {
    "colab_type": "text",
    "id": "C7mwFWzhux0J"
   },
   "source": [
    "# Programming Assignment 2: Linear regression"
   ]
  },
  {
   "cell_type": "markdown",
   "metadata": {
    "colab_type": "text",
    "id": "dGL2CVVeux0J"
   },
   "source": [
    "As we know, the COVID-19 pandemic has been disrupting people's life around the world. To get it under control, a crucial aspect is to be able to accurate forecast the spread of the disease, which can be helpful as a planning tool for policymakers, clinicians, and public health officers to deal with this crisis. In this notebook,we will try to do some forecasting on the covid-19 epidemic progression using machine learning. We will use a dataset based on the COVID-19 Data Repository at John Hopkins university."
   ]
  },
  {
   "cell_type": "code",
   "execution_count": 1,
   "metadata": {
    "colab": {},
    "colab_type": "code",
    "id": "oPSazMP4ux0K"
   },
   "outputs": [],
   "source": [
    "import pandas as pd\n",
    "from datetime import datetime, timedelta\n",
    "import matplotlib.pyplot as plt\n",
    "from matplotlib.dates import DateFormatter\n",
    "import matplotlib.dates as mdates\n",
    "import numpy as np\n",
    "from math import sqrt \n",
    "import sys"
   ]
  },
  {
   "cell_type": "code",
   "execution_count": 2,
   "metadata": {},
   "outputs": [
    {
     "name": "stdout",
     "output_type": "stream",
     "text": [
      "3.6.4 |Anaconda, Inc.| (default, Jan 16 2018, 10:22:32) [MSC v.1900 64 bit (AMD64)]\n",
      "1.1.1\n"
     ]
    }
   ],
   "source": [
    "print (sys.version)\n",
    "print(pd.__version__)\n"
   ]
  },
  {
   "cell_type": "markdown",
   "metadata": {
    "colab_type": "text",
    "id": "EXqNTB03ux0O"
   },
   "source": [
    "First, let us load the data."
   ]
  },
  {
   "cell_type": "code",
   "execution_count": 3,
   "metadata": {
    "colab": {
     "base_uri": "https://localhost:8080/",
     "height": 609
    },
    "colab_type": "code",
    "id": "QsFsOYRTux0O",
    "outputId": "6f037511-0d17-42dc-d6aa-9982365d1f74"
   },
   "outputs": [
    {
     "name": "stdout",
     "output_type": "stream",
     "text": [
      "Index(['Unnamed: 0', 'date', 'Country', 'hospitalized_with_symptom',\n",
      "       'Intensive_care', 'Total_hospitalized', 'Home_Isolation',\n",
      "       'Total_positive', 'Daily_change_in_positive_cases',\n",
      "       'New_positive_cases', 'Recovered', 'Deaths', 'Total_cases',\n",
      "       'People_tested'],\n",
      "      dtype='object')\n"
     ]
    },
    {
     "data": {
      "text/html": [
       "<div>\n",
       "<style scoped>\n",
       "    .dataframe tbody tr th:only-of-type {\n",
       "        vertical-align: middle;\n",
       "    }\n",
       "\n",
       "    .dataframe tbody tr th {\n",
       "        vertical-align: top;\n",
       "    }\n",
       "\n",
       "    .dataframe thead th {\n",
       "        text-align: right;\n",
       "    }\n",
       "</style>\n",
       "<table border=\"1\" class=\"dataframe\">\n",
       "  <thead>\n",
       "    <tr style=\"text-align: right;\">\n",
       "      <th></th>\n",
       "      <th>Unnamed: 0</th>\n",
       "      <th>date</th>\n",
       "      <th>Country</th>\n",
       "      <th>hospitalized_with_symptom</th>\n",
       "      <th>Intensive_care</th>\n",
       "      <th>Total_hospitalized</th>\n",
       "      <th>Home_Isolation</th>\n",
       "      <th>Total_positive</th>\n",
       "      <th>Daily_change_in_positive_cases</th>\n",
       "      <th>New_positive_cases</th>\n",
       "      <th>Recovered</th>\n",
       "      <th>Deaths</th>\n",
       "      <th>Total_cases</th>\n",
       "      <th>People_tested</th>\n",
       "    </tr>\n",
       "  </thead>\n",
       "  <tbody>\n",
       "    <tr>\n",
       "      <th>0</th>\n",
       "      <td>0</td>\n",
       "      <td>2020-02-24T18:00:00</td>\n",
       "      <td>US</td>\n",
       "      <td>101</td>\n",
       "      <td>26</td>\n",
       "      <td>127</td>\n",
       "      <td>94</td>\n",
       "      <td>221</td>\n",
       "      <td>0</td>\n",
       "      <td>221</td>\n",
       "      <td>1</td>\n",
       "      <td>7</td>\n",
       "      <td>229</td>\n",
       "      <td>4324</td>\n",
       "    </tr>\n",
       "    <tr>\n",
       "      <th>1</th>\n",
       "      <td>1</td>\n",
       "      <td>2020-02-25T18:00:00</td>\n",
       "      <td>US</td>\n",
       "      <td>114</td>\n",
       "      <td>35</td>\n",
       "      <td>150</td>\n",
       "      <td>162</td>\n",
       "      <td>311</td>\n",
       "      <td>90</td>\n",
       "      <td>93</td>\n",
       "      <td>1</td>\n",
       "      <td>10</td>\n",
       "      <td>322</td>\n",
       "      <td>8623</td>\n",
       "    </tr>\n",
       "    <tr>\n",
       "      <th>2</th>\n",
       "      <td>2</td>\n",
       "      <td>2020-02-26T18:00:00</td>\n",
       "      <td>US</td>\n",
       "      <td>128</td>\n",
       "      <td>36</td>\n",
       "      <td>164</td>\n",
       "      <td>221</td>\n",
       "      <td>385</td>\n",
       "      <td>74</td>\n",
       "      <td>78</td>\n",
       "      <td>3</td>\n",
       "      <td>12</td>\n",
       "      <td>400</td>\n",
       "      <td>9587</td>\n",
       "    </tr>\n",
       "    <tr>\n",
       "      <th>3</th>\n",
       "      <td>3</td>\n",
       "      <td>2020-02-27T18:00:00</td>\n",
       "      <td>US</td>\n",
       "      <td>248</td>\n",
       "      <td>56</td>\n",
       "      <td>304</td>\n",
       "      <td>284</td>\n",
       "      <td>588</td>\n",
       "      <td>203</td>\n",
       "      <td>250</td>\n",
       "      <td>45</td>\n",
       "      <td>17</td>\n",
       "      <td>650</td>\n",
       "      <td>12014</td>\n",
       "    </tr>\n",
       "    <tr>\n",
       "      <th>4</th>\n",
       "      <td>4</td>\n",
       "      <td>2020-02-28T18:00:00</td>\n",
       "      <td>US</td>\n",
       "      <td>345</td>\n",
       "      <td>64</td>\n",
       "      <td>409</td>\n",
       "      <td>412</td>\n",
       "      <td>821</td>\n",
       "      <td>233</td>\n",
       "      <td>238</td>\n",
       "      <td>46</td>\n",
       "      <td>21</td>\n",
       "      <td>888</td>\n",
       "      <td>15695</td>\n",
       "    </tr>\n",
       "    <tr>\n",
       "      <th>...</th>\n",
       "      <td>...</td>\n",
       "      <td>...</td>\n",
       "      <td>...</td>\n",
       "      <td>...</td>\n",
       "      <td>...</td>\n",
       "      <td>...</td>\n",
       "      <td>...</td>\n",
       "      <td>...</td>\n",
       "      <td>...</td>\n",
       "      <td>...</td>\n",
       "      <td>...</td>\n",
       "      <td>...</td>\n",
       "      <td>...</td>\n",
       "      <td>...</td>\n",
       "    </tr>\n",
       "    <tr>\n",
       "      <th>201</th>\n",
       "      <td>201</td>\n",
       "      <td>2020-09-12T17:00:00</td>\n",
       "      <td>US</td>\n",
       "      <td>1951</td>\n",
       "      <td>182</td>\n",
       "      <td>2133</td>\n",
       "      <td>35370</td>\n",
       "      <td>37503</td>\n",
       "      <td>736</td>\n",
       "      <td>1501</td>\n",
       "      <td>213191</td>\n",
       "      <td>35603</td>\n",
       "      <td>286297</td>\n",
       "      <td>9745975</td>\n",
       "    </tr>\n",
       "    <tr>\n",
       "      <th>202</th>\n",
       "      <td>202</td>\n",
       "      <td>2020-09-13T17:00:00</td>\n",
       "      <td>US</td>\n",
       "      <td>2042</td>\n",
       "      <td>187</td>\n",
       "      <td>2229</td>\n",
       "      <td>36280</td>\n",
       "      <td>38509</td>\n",
       "      <td>1006</td>\n",
       "      <td>1458</td>\n",
       "      <td>213634</td>\n",
       "      <td>35610</td>\n",
       "      <td>287753</td>\n",
       "      <td>9818118</td>\n",
       "    </tr>\n",
       "    <tr>\n",
       "      <th>203</th>\n",
       "      <td>203</td>\n",
       "      <td>2020-09-14T17:00:00</td>\n",
       "      <td>US</td>\n",
       "      <td>2122</td>\n",
       "      <td>197</td>\n",
       "      <td>2319</td>\n",
       "      <td>36868</td>\n",
       "      <td>39187</td>\n",
       "      <td>678</td>\n",
       "      <td>1008</td>\n",
       "      <td>213950</td>\n",
       "      <td>35624</td>\n",
       "      <td>288761</td>\n",
       "      <td>9863427</td>\n",
       "    </tr>\n",
       "    <tr>\n",
       "      <th>204</th>\n",
       "      <td>204</td>\n",
       "      <td>2020-09-15T17:00:00</td>\n",
       "      <td>US</td>\n",
       "      <td>2222</td>\n",
       "      <td>201</td>\n",
       "      <td>2423</td>\n",
       "      <td>37289</td>\n",
       "      <td>39712</td>\n",
       "      <td>525</td>\n",
       "      <td>1229</td>\n",
       "      <td>214645</td>\n",
       "      <td>35633</td>\n",
       "      <td>289990</td>\n",
       "      <td>9943944</td>\n",
       "    </tr>\n",
       "    <tr>\n",
       "      <th>205</th>\n",
       "      <td>205</td>\n",
       "      <td>2020-09-16T17:00:00</td>\n",
       "      <td>US</td>\n",
       "      <td>2285</td>\n",
       "      <td>207</td>\n",
       "      <td>2492</td>\n",
       "      <td>38040</td>\n",
       "      <td>40532</td>\n",
       "      <td>820</td>\n",
       "      <td>1452</td>\n",
       "      <td>215265</td>\n",
       "      <td>35645</td>\n",
       "      <td>291442</td>\n",
       "      <td>10044551</td>\n",
       "    </tr>\n",
       "  </tbody>\n",
       "</table>\n",
       "<p>206 rows × 14 columns</p>\n",
       "</div>"
      ],
      "text/plain": [
       "     Unnamed: 0                 date Country  hospitalized_with_symptom  \\\n",
       "0             0  2020-02-24T18:00:00      US                        101   \n",
       "1             1  2020-02-25T18:00:00      US                        114   \n",
       "2             2  2020-02-26T18:00:00      US                        128   \n",
       "3             3  2020-02-27T18:00:00      US                        248   \n",
       "4             4  2020-02-28T18:00:00      US                        345   \n",
       "..          ...                  ...     ...                        ...   \n",
       "201         201  2020-09-12T17:00:00      US                       1951   \n",
       "202         202  2020-09-13T17:00:00      US                       2042   \n",
       "203         203  2020-09-14T17:00:00      US                       2122   \n",
       "204         204  2020-09-15T17:00:00      US                       2222   \n",
       "205         205  2020-09-16T17:00:00      US                       2285   \n",
       "\n",
       "     Intensive_care  Total_hospitalized  Home_Isolation  Total_positive  \\\n",
       "0                26                 127              94             221   \n",
       "1                35                 150             162             311   \n",
       "2                36                 164             221             385   \n",
       "3                56                 304             284             588   \n",
       "4                64                 409             412             821   \n",
       "..              ...                 ...             ...             ...   \n",
       "201             182                2133           35370           37503   \n",
       "202             187                2229           36280           38509   \n",
       "203             197                2319           36868           39187   \n",
       "204             201                2423           37289           39712   \n",
       "205             207                2492           38040           40532   \n",
       "\n",
       "     Daily_change_in_positive_cases  New_positive_cases  Recovered  Deaths  \\\n",
       "0                                 0                 221          1       7   \n",
       "1                                90                  93          1      10   \n",
       "2                                74                  78          3      12   \n",
       "3                               203                 250         45      17   \n",
       "4                               233                 238         46      21   \n",
       "..                              ...                 ...        ...     ...   \n",
       "201                             736                1501     213191   35603   \n",
       "202                            1006                1458     213634   35610   \n",
       "203                             678                1008     213950   35624   \n",
       "204                             525                1229     214645   35633   \n",
       "205                             820                1452     215265   35645   \n",
       "\n",
       "     Total_cases  People_tested  \n",
       "0            229           4324  \n",
       "1            322           8623  \n",
       "2            400           9587  \n",
       "3            650          12014  \n",
       "4            888          15695  \n",
       "..           ...            ...  \n",
       "201       286297        9745975  \n",
       "202       287753        9818118  \n",
       "203       288761        9863427  \n",
       "204       289990        9943944  \n",
       "205       291442       10044551  \n",
       "\n",
       "[206 rows x 14 columns]"
      ]
     },
     "execution_count": 3,
     "metadata": {},
     "output_type": "execute_result"
    }
   ],
   "source": [
    "data_orig = pd.read_csv(\"us_covid_data.csv\")\n",
    "data = data_orig.copy()\n",
    "print (data_orig.columns)\n",
    "data_orig"
   ]
  },
  {
   "cell_type": "code",
   "execution_count": 4,
   "metadata": {},
   "outputs": [],
   "source": [
    "# change the date format\n",
    "dates = data['date']\n",
    "date_format = [pd.to_datetime(d) for d in dates]"
   ]
  },
  {
   "cell_type": "markdown",
   "metadata": {
    "colab_type": "text",
    "id": "fm30YZRHux0U"
   },
   "source": [
    "# Data Visualization"
   ]
  },
  {
   "cell_type": "markdown",
   "metadata": {
    "colab_type": "text",
    "id": "PlyWWlKOux0V"
   },
   "source": [
    "**Task P1:** complete the following **three** visualization graphs that show the trend of the epidemic progression. Copy them to the solution file."
   ]
  },
  {
   "cell_type": "markdown",
   "metadata": {},
   "source": [
    "Graph 1: plot the total number of people tested for the entire period of the dataset. Your X axis will be the dates (\"Dates\") and Y-axis will be the total number of cases (\"People_tested\") over the period of time."
   ]
  },
  {
   "cell_type": "code",
   "execution_count": 5,
   "metadata": {
    "colab": {
     "base_uri": "https://localhost:8080/",
     "height": 350
    },
    "colab_type": "code",
    "id": "bXceVTTVux0V",
    "outputId": "d9cd606d-54fb-47ef-b891-501c7a23eaf9"
   },
   "outputs": [
    {
     "data": {
      "image/png": "[encoded data removed]",
      "text/plain": [
       "<matplotlib.figure.Figure at 0x1cafee388d0>"
      ]
     },
     "metadata": {},
     "output_type": "display_data"
    }
   ],
   "source": [
    "# Add code to plot the trend of the total number of people being tested as days progressed.\n",
    "# X axis -> dates('Dates')\n",
    "# Y axis -> number of people tested.('People_tested')\n",
    "\n",
    "### STUDENT: Start of Code ###\n",
    "x = dates.to_numpy()\n",
    "y= data['People_tested'].to_numpy()\n",
    "\n",
    "plt.plot(x,y)\n",
    "plt.title(\"People Tested per Day \" )\n",
    "plt.ylabel(\"People Tested\", fontsize=14, color='blue')\n",
    "plt.xlabel('Days', fontsize=14, color='blue')\n",
    "\n",
    "plt.show()\n",
    "### End of code ####"
   ]
  },
  {
   "cell_type": "markdown",
   "metadata": {},
   "source": [
    "Graph 2: plot the total number of deaths for the entire period. Your X axis will be the dates (\"Dates\") and Y-axis will be the total number of death cases(\"Deaths\") over the period of time."
   ]
  },
  {
   "cell_type": "code",
   "execution_count": 6,
   "metadata": {
    "colab": {
     "base_uri": "https://localhost:8080/",
     "height": 350
    },
    "colab_type": "code",
    "id": "9cadesV1ux0Y",
    "outputId": "eae2507a-be85-419f-ba63-58a7981a175d"
   },
   "outputs": [
    {
     "data": {
      "text/plain": [
       "Text(0.5,0,'Days')"
      ]
     },
     "execution_count": 6,
     "metadata": {},
     "output_type": "execute_result"
    },
    {
     "data": {
      "image/png": "[encoded data removed]",
      "text/plain": [
       "<matplotlib.figure.Figure at 0x1cafee386d8>"
      ]
     },
     "metadata": {},
     "output_type": "display_data"
    }
   ],
   "source": [
    "# Add code to plot the trend of total deaths as days progressed.\n",
    "# X axis -> dates ('Dates')\n",
    "# Y axis -> number of deaths ('Deaths')\n",
    "\n",
    "\n",
    "### STUDENT: Start of Code ###\n",
    "\n",
    "x = dates.to_numpy()\n",
    "y= data['Deaths'].to_numpy()\n",
    "\n",
    "plt.plot(x,y)\n",
    "plt.title(\" Number of Deaths \" )\n",
    "plt.ylabel(\"Number Dead\", fontsize=14, color='blue')\n",
    "plt.xlabel('Days', fontsize=14, color='blue')\n",
    "\n",
    "### End of code ####"
   ]
  },
  {
   "cell_type": "markdown",
   "metadata": {
    "colab": {},
    "colab_type": "code",
    "id": "eDJ857lvux0b"
   },
   "source": [
    "Graph 3: plot the total number of infected cases for the entire period. Your X axis will be the dates (\"Dates\") and Y-axis will be the total number of infected cases ('New_positive_cases') over the period of time."
   ]
  },
  {
   "cell_type": "code",
   "execution_count": 7,
   "metadata": {
    "colab": {
     "base_uri": "https://localhost:8080/",
     "height": 350
    },
    "colab_type": "code",
    "id": "OAjc8x6Gux0e",
    "outputId": "f4a9b191-d089-4465-bef1-74629bc22bca"
   },
   "outputs": [
    {
     "data": {
      "text/plain": [
       "Text(0.5,0,'Days')"
      ]
     },
     "execution_count": 7,
     "metadata": {},
     "output_type": "execute_result"
    },
    {
     "data": {
      "image/png": "[encoded data removed]",
      "text/plain": [
       "<matplotlib.figure.Figure at 0x1cafee38c50>"
      ]
     },
     "metadata": {},
     "output_type": "display_data"
    }
   ],
   "source": [
    "### STUDENT: Start of Code ###\n",
    "x = dates.to_numpy()\n",
    "y= data['New_positive_cases'].to_numpy()\n",
    "\n",
    "plt.plot(x,y)\n",
    "plt.title(\"New Positive Cases \" )\n",
    "plt.ylabel(\"New Positive Cases\", fontsize=14, color='blue')\n",
    "plt.xlabel('Days', fontsize=14, color='blue')\n",
    "\n",
    "\n",
    "### End of code ####"
   ]
  },
  {
   "cell_type": "markdown",
   "metadata": {},
   "source": [
    "As we can see that our data has different ranges of values for every feature and this can cause problems in our model, so here we will normalize our data (ignoring the categorical variables) so that our data is scaled between 0 and 1. The downside, however, is that the numbers are no longer interpretable. To interpret it, you need to multiply back by the scaling factor.\n",
    "\n",
    "**IMPORTANT: ** From now on, we will work with the normalized features to build the regression model. However, in **Task P8**, you need to convert the number back to the actual units."
   ]
  },
  {
   "cell_type": "code",
   "execution_count": 12,
   "metadata": {},
   "outputs": [
    {
     "data": {
      "text/html": [
       "<div>\n",
       "<style scoped>\n",
       "    .dataframe tbody tr th:only-of-type {\n",
       "        vertical-align: middle;\n",
       "    }\n",
       "\n",
       "    .dataframe tbody tr th {\n",
       "        vertical-align: top;\n",
       "    }\n",
       "\n",
       "    .dataframe thead th {\n",
       "        text-align: right;\n",
       "    }\n",
       "</style>\n",
       "<table border=\"1\" class=\"dataframe\">\n",
       "  <thead>\n",
       "    <tr style=\"text-align: right;\">\n",
       "      <th></th>\n",
       "      <th>Unnamed: 0</th>\n",
       "      <th>date</th>\n",
       "      <th>Country</th>\n",
       "      <th>hospitalized_with_symptom</th>\n",
       "      <th>Intensive_care</th>\n",
       "      <th>Total_hospitalized</th>\n",
       "      <th>Home_Isolation</th>\n",
       "      <th>Total_positive</th>\n",
       "      <th>Daily_change_in_positive_cases</th>\n",
       "      <th>New_positive_cases</th>\n",
       "      <th>Recovered</th>\n",
       "      <th>Deaths</th>\n",
       "      <th>Total_cases</th>\n",
       "      <th>People_tested</th>\n",
       "      <th>Days</th>\n",
       "      <th>constant</th>\n",
       "    </tr>\n",
       "  </thead>\n",
       "  <tbody>\n",
       "    <tr>\n",
       "      <th>0</th>\n",
       "      <td>0</td>\n",
       "      <td>2020-02-24T18:00:00</td>\n",
       "      <td>US</td>\n",
       "      <td>0.000000</td>\n",
       "      <td>0.000000</td>\n",
       "      <td>0.000000</td>\n",
       "      <td>0.000000</td>\n",
       "      <td>0.000000</td>\n",
       "      <td>0.590051</td>\n",
       "      <td>0.022071</td>\n",
       "      <td>0.000000</td>\n",
       "      <td>0.000000</td>\n",
       "      <td>0.000000</td>\n",
       "      <td>0.000000</td>\n",
       "      <td>1</td>\n",
       "      <td>1</td>\n",
       "    </tr>\n",
       "    <tr>\n",
       "      <th>1</th>\n",
       "      <td>1</td>\n",
       "      <td>2020-02-25T18:00:00</td>\n",
       "      <td>US</td>\n",
       "      <td>0.000450</td>\n",
       "      <td>0.002227</td>\n",
       "      <td>0.000700</td>\n",
       "      <td>0.000814</td>\n",
       "      <td>0.000833</td>\n",
       "      <td>0.597704</td>\n",
       "      <td>0.002315</td>\n",
       "      <td>0.000000</td>\n",
       "      <td>0.000084</td>\n",
       "      <td>0.000319</td>\n",
       "      <td>0.000428</td>\n",
       "      <td>2</td>\n",
       "      <td>1</td>\n",
       "    </tr>\n",
       "    <tr>\n",
       "      <th>2</th>\n",
       "      <td>2</td>\n",
       "      <td>2020-02-26T18:00:00</td>\n",
       "      <td>US</td>\n",
       "      <td>0.000934</td>\n",
       "      <td>0.002474</td>\n",
       "      <td>0.001125</td>\n",
       "      <td>0.001520</td>\n",
       "      <td>0.001518</td>\n",
       "      <td>0.596344</td>\n",
       "      <td>0.000000</td>\n",
       "      <td>0.000009</td>\n",
       "      <td>0.000140</td>\n",
       "      <td>0.000587</td>\n",
       "      <td>0.000524</td>\n",
       "      <td>3</td>\n",
       "      <td>1</td>\n",
       "    </tr>\n",
       "    <tr>\n",
       "      <th>3</th>\n",
       "      <td>3</td>\n",
       "      <td>2020-02-27T18:00:00</td>\n",
       "      <td>US</td>\n",
       "      <td>0.005085</td>\n",
       "      <td>0.007422</td>\n",
       "      <td>0.005384</td>\n",
       "      <td>0.002274</td>\n",
       "      <td>0.003397</td>\n",
       "      <td>0.607313</td>\n",
       "      <td>0.026547</td>\n",
       "      <td>0.000204</td>\n",
       "      <td>0.000281</td>\n",
       "      <td>0.001446</td>\n",
       "      <td>0.000766</td>\n",
       "      <td>4</td>\n",
       "      <td>1</td>\n",
       "    </tr>\n",
       "    <tr>\n",
       "      <th>4</th>\n",
       "      <td>4</td>\n",
       "      <td>2020-02-28T18:00:00</td>\n",
       "      <td>US</td>\n",
       "      <td>0.008440</td>\n",
       "      <td>0.009401</td>\n",
       "      <td>0.008577</td>\n",
       "      <td>0.003806</td>\n",
       "      <td>0.005554</td>\n",
       "      <td>0.609864</td>\n",
       "      <td>0.024695</td>\n",
       "      <td>0.000209</td>\n",
       "      <td>0.000393</td>\n",
       "      <td>0.002263</td>\n",
       "      <td>0.001133</td>\n",
       "      <td>5</td>\n",
       "      <td>1</td>\n",
       "    </tr>\n",
       "    <tr>\n",
       "      <th>...</th>\n",
       "      <td>...</td>\n",
       "      <td>...</td>\n",
       "      <td>...</td>\n",
       "      <td>...</td>\n",
       "      <td>...</td>\n",
       "      <td>...</td>\n",
       "      <td>...</td>\n",
       "      <td>...</td>\n",
       "      <td>...</td>\n",
       "      <td>...</td>\n",
       "      <td>...</td>\n",
       "      <td>...</td>\n",
       "      <td>...</td>\n",
       "      <td>...</td>\n",
       "      <td>...</td>\n",
       "      <td>...</td>\n",
       "    </tr>\n",
       "    <tr>\n",
       "      <th>201</th>\n",
       "      <td>201</td>\n",
       "      <td>2020-09-12T17:00:00</td>\n",
       "      <td>US</td>\n",
       "      <td>0.063994</td>\n",
       "      <td>0.038595</td>\n",
       "      <td>0.061015</td>\n",
       "      <td>0.422174</td>\n",
       "      <td>0.345089</td>\n",
       "      <td>0.652636</td>\n",
       "      <td>0.219633</td>\n",
       "      <td>0.990365</td>\n",
       "      <td>0.998821</td>\n",
       "      <td>0.982333</td>\n",
       "      <td>0.970262</td>\n",
       "      <td>202</td>\n",
       "      <td>1</td>\n",
       "    </tr>\n",
       "    <tr>\n",
       "      <th>202</th>\n",
       "      <td>202</td>\n",
       "      <td>2020-09-13T17:00:00</td>\n",
       "      <td>US</td>\n",
       "      <td>0.067142</td>\n",
       "      <td>0.039832</td>\n",
       "      <td>0.063935</td>\n",
       "      <td>0.433064</td>\n",
       "      <td>0.354400</td>\n",
       "      <td>0.675595</td>\n",
       "      <td>0.212996</td>\n",
       "      <td>0.992423</td>\n",
       "      <td>0.999018</td>\n",
       "      <td>0.987332</td>\n",
       "      <td>0.977447</td>\n",
       "      <td>203</td>\n",
       "      <td>1</td>\n",
       "    </tr>\n",
       "    <tr>\n",
       "      <th>203</th>\n",
       "      <td>203</td>\n",
       "      <td>2020-09-14T17:00:00</td>\n",
       "      <td>US</td>\n",
       "      <td>0.069909</td>\n",
       "      <td>0.042306</td>\n",
       "      <td>0.066673</td>\n",
       "      <td>0.440101</td>\n",
       "      <td>0.360676</td>\n",
       "      <td>0.647704</td>\n",
       "      <td>0.143541</td>\n",
       "      <td>0.993891</td>\n",
       "      <td>0.999411</td>\n",
       "      <td>0.990794</td>\n",
       "      <td>0.981960</td>\n",
       "      <td>204</td>\n",
       "      <td>1</td>\n",
       "    </tr>\n",
       "    <tr>\n",
       "      <th>204</th>\n",
       "      <td>204</td>\n",
       "      <td>2020-09-15T17:00:00</td>\n",
       "      <td>US</td>\n",
       "      <td>0.073368</td>\n",
       "      <td>0.043295</td>\n",
       "      <td>0.069836</td>\n",
       "      <td>0.445140</td>\n",
       "      <td>0.365536</td>\n",
       "      <td>0.634694</td>\n",
       "      <td>0.177651</td>\n",
       "      <td>0.997120</td>\n",
       "      <td>0.999663</td>\n",
       "      <td>0.995014</td>\n",
       "      <td>0.989980</td>\n",
       "      <td>205</td>\n",
       "      <td>1</td>\n",
       "    </tr>\n",
       "    <tr>\n",
       "      <th>205</th>\n",
       "      <td>205</td>\n",
       "      <td>2020-09-16T17:00:00</td>\n",
       "      <td>US</td>\n",
       "      <td>0.075547</td>\n",
       "      <td>0.044780</td>\n",
       "      <td>0.071935</td>\n",
       "      <td>0.454128</td>\n",
       "      <td>0.373126</td>\n",
       "      <td>0.659779</td>\n",
       "      <td>0.212070</td>\n",
       "      <td>1.000000</td>\n",
       "      <td>1.000000</td>\n",
       "      <td>1.000000</td>\n",
       "      <td>1.000000</td>\n",
       "      <td>206</td>\n",
       "      <td>1</td>\n",
       "    </tr>\n",
       "  </tbody>\n",
       "</table>\n",
       "<p>206 rows × 16 columns</p>\n",
       "</div>"
      ],
      "text/plain": [
       "     Unnamed: 0                 date Country  hospitalized_with_symptom  \\\n",
       "0             0  2020-02-24T18:00:00      US                   0.000000   \n",
       "1             1  2020-02-25T18:00:00      US                   0.000450   \n",
       "2             2  2020-02-26T18:00:00      US                   0.000934   \n",
       "3             3  2020-02-27T18:00:00      US                   0.005085   \n",
       "4             4  2020-02-28T18:00:00      US                   0.008440   \n",
       "..          ...                  ...     ...                        ...   \n",
       "201         201  2020-09-12T17:00:00      US                   0.063994   \n",
       "202         202  2020-09-13T17:00:00      US                   0.067142   \n",
       "203         203  2020-09-14T17:00:00      US                   0.069909   \n",
       "204         204  2020-09-15T17:00:00      US                   0.073368   \n",
       "205         205  2020-09-16T17:00:00      US                   0.075547   \n",
       "\n",
       "     Intensive_care  Total_hospitalized  Home_Isolation  Total_positive  \\\n",
       "0          0.000000            0.000000        0.000000        0.000000   \n",
       "1          0.002227            0.000700        0.000814        0.000833   \n",
       "2          0.002474            0.001125        0.001520        0.001518   \n",
       "3          0.007422            0.005384        0.002274        0.003397   \n",
       "4          0.009401            0.008577        0.003806        0.005554   \n",
       "..              ...                 ...             ...             ...   \n",
       "201        0.038595            0.061015        0.422174        0.345089   \n",
       "202        0.039832            0.063935        0.433064        0.354400   \n",
       "203        0.042306            0.066673        0.440101        0.360676   \n",
       "204        0.043295            0.069836        0.445140        0.365536   \n",
       "205        0.044780            0.071935        0.454128        0.373126   \n",
       "\n",
       "     Daily_change_in_positive_cases  New_positive_cases  Recovered    Deaths  \\\n",
       "0                          0.590051            0.022071   0.000000  0.000000   \n",
       "1                          0.597704            0.002315   0.000000  0.000084   \n",
       "2                          0.596344            0.000000   0.000009  0.000140   \n",
       "3                          0.607313            0.026547   0.000204  0.000281   \n",
       "4                          0.609864            0.024695   0.000209  0.000393   \n",
       "..                              ...                 ...        ...       ...   \n",
       "201                        0.652636            0.219633   0.990365  0.998821   \n",
       "202                        0.675595            0.212996   0.992423  0.999018   \n",
       "203                        0.647704            0.143541   0.993891  0.999411   \n",
       "204                        0.634694            0.177651   0.997120  0.999663   \n",
       "205                        0.659779            0.212070   1.000000  1.000000   \n",
       "\n",
       "     Total_cases  People_tested  Days  constant  \n",
       "0       0.000000       0.000000     1         1  \n",
       "1       0.000319       0.000428     2         1  \n",
       "2       0.000587       0.000524     3         1  \n",
       "3       0.001446       0.000766     4         1  \n",
       "4       0.002263       0.001133     5         1  \n",
       "..           ...            ...   ...       ...  \n",
       "201     0.982333       0.970262   202         1  \n",
       "202     0.987332       0.977447   203         1  \n",
       "203     0.990794       0.981960   204         1  \n",
       "204     0.995014       0.989980   205         1  \n",
       "205     1.000000       1.000000   206         1  \n",
       "\n",
       "[206 rows x 16 columns]"
      ]
     },
     "execution_count": 12,
     "metadata": {},
     "output_type": "execute_result"
    }
   ],
   "source": [
    "data_list = data_orig.columns.values.tolist()\n",
    "\n",
    "for i in data_list[-11:]:\n",
    "    data[[i]]=(data_orig[i]-data_orig[i].min())/(data_orig[i].max()-data_orig[i].min())\n",
    "    \n",
    "data"
   ]
  },
  {
   "cell_type": "markdown",
   "metadata": {
    "colab_type": "text",
    "id": "IQAJGhQNux0g"
   },
   "source": [
    "# Calculate the feature matrix"
   ]
  },
  {
   "cell_type": "markdown",
   "metadata": {
    "colab_type": "text",
    "id": "JkjaoLuGux0h"
   },
   "source": [
    "The following is a function that accepts a list of feature names (e.g. ['Total_Hospitalized', 'People_tested']) and an target feature e.g. ('Deaths') and returns two things:\n",
    "\n",
    "1. A numpy matrix whose columns are the desired features plus a column with a constant value 1, which is also known as the 'intercept'.\n",
    "2. A numpy array that contains the values of the target output.\n"
   ]
  },
  {
   "cell_type": "code",
   "execution_count": 13,
   "metadata": {
    "colab": {},
    "colab_type": "code",
    "id": "RXJqm-8oux0i"
   },
   "outputs": [],
   "source": [
    "def get_numpy_data(data_frame, features, output):\n",
    "    # Steps\n",
    "    # select the columns of data_Frame given by the features list into the variable features_sframe which will include the constant\n",
    "    # Convert the features_frame into a numpy matrix\n",
    "    # assign the column of data_frame associated with the output to the array output_array\n",
    "    # convert the array into a numpy array by first converting it to a list\n",
    "    # return feature_matrix,output_array\n",
    "    \n",
    "    data_frame['constant'] = 1 # here we are adding a constant column \n",
    "    # add the column 'constant' to the front of the features list.\n",
    "    features = ['constant'] + features \n",
    "        \n",
    "    # select the columns of data_Frame given by the features list into the variable features_sframe which will include the constant)\n",
    "    features_frame = data_frame[features]\n",
    "    #print(features_frame)\n",
    "    # Convert the features_frame into a numpy matrix\n",
    "    feature_matrix = features_frame.to_numpy()\n",
    "    # print (\"feature_matrix:\", feature_matrix)\n",
    "    \n",
    "    # assign the column of data_frame associated with the output to the array output_array\n",
    "    output_array = data_frame[output]\n",
    "    \n",
    "    # convert the array into a numpy array by first converting it to a list\n",
    "    output_array = output_array.to_numpy()\n",
    "    \n",
    "    return(feature_matrix, output_array)    "
   ]
  },
  {
   "cell_type": "markdown",
   "metadata": {},
   "source": [
    "For dates, we need to convert them into a sequence of numbers. We now add a new column to our dataframe corresponding to the number of days since the start of the dataset."
   ]
  },
  {
   "cell_type": "code",
   "execution_count": 14,
   "metadata": {},
   "outputs": [],
   "source": [
    "X = date_format\n",
    "day_numbers = []\n",
    "for i in range(1, len(X) + 1):\n",
    "    day_numbers.append([i])\n",
    "    \n",
    "data['Days'] = pd.DataFrame(day_numbers,columns = ['Days'])\n",
    "data[\"Days\"] = data[\"Days\"].astype(int)"
   ]
  },
  {
   "cell_type": "markdown",
   "metadata": {},
   "source": [
    "Test the above function for a particular input and output feature."
   ]
  },
  {
   "cell_type": "code",
   "execution_count": 15,
   "metadata": {
    "colab": {
     "base_uri": "https://localhost:8080/",
     "height": 52
    },
    "colab_type": "code",
    "id": "po3KtihNux0k",
    "outputId": "15bce6d6-1a80-4c6c-f2d3-d39fc0270024"
   },
   "outputs": [
    {
     "name": "stdout",
     "output_type": "stream",
     "text": [
      "[1 1]\n",
      "0.5420589597160056\n"
     ]
    }
   ],
   "source": [
    "(example_features, example_output) = get_numpy_data(data, ['Days'], 'New_positive_cases')\n",
    "print (example_features[0,:])\n",
    "print (example_output[20]) "
   ]
  },
  {
   "cell_type": "markdown",
   "metadata": {},
   "source": [
    "# Predict the outputs with given regression weights"
   ]
  },
  {
   "cell_type": "markdown",
   "metadata": {},
   "source": [
    "Suppose we had the weights $[1, 1]$ corresponding to the features $[1, 100]$, to compute the predicted output, we can simply take the dot product between them, so the output is $1*1 + 1*100 = 101$. Now, let's create the data with "
   ]
  },
  {
   "cell_type": "code",
   "execution_count": 16,
   "metadata": {
    "colab": {},
    "colab_type": "code",
    "id": "0X6UmroKux0t"
   },
   "outputs": [
    {
     "name": "stdout",
     "output_type": "stream",
     "text": [
      "[1 6]\n",
      "0.0014279557623547755\n"
     ]
    }
   ],
   "source": [
    "(test_features, output) = get_numpy_data(data, ['Days'], 'People_tested')\n",
    "print (test_features[5])\n",
    "print(output[5])"
   ]
  },
  {
   "cell_type": "markdown",
   "metadata": {},
   "source": [
    "**Task P2:** Complete the following function  'predict_output'. Copy the the outputs of the code to the solution file."
   ]
  },
  {
   "cell_type": "code",
   "execution_count": 42,
   "metadata": {
    "colab": {},
    "colab_type": "code",
    "id": "9YpyW46tux0w"
   },
   "outputs": [],
   "source": [
    "def predict_output(feature_matrix, weights):\n",
    "    # Inputs:\n",
    "    # feature_matrix: a numpy matrix containing the features as columns (including the intercept), \n",
    "    #                 and each row corresponds to a data point\n",
    "    # weights: a numpy array for the corresponding regression weights (including the intercept)\n",
    "    # Output:\n",
    "    # a numpy array that contains the predicted outputs (according to the provided weights) \n",
    "    # for all the data points in the feature_matrix\n",
    " \n",
    "    # STUDENT: Start of code ####\n",
    "    #print('predict output')\n",
    "    predictions=[]\n",
    "    sum = 0\n",
    "    rowSum = 0;\n",
    "    max_value = 0;\n",
    "    #print (len(feature_matrix))\n",
    "    #print(\"--feature matrix--\")\n",
    "    #print(feature_matrix)\n",
    "    #print(weights)\n",
    "    #print('---------')\n",
    "    for i in range(len(feature_matrix)):\n",
    "        rowSum = 0\n",
    "        #print (feature_matrix[i])\n",
    "        for j in range(len(feature_matrix[i])):\n",
    "            #print (weights)\n",
    "            #print(':::::::')\n",
    "            #print(rowSum)\n",
    "            rowSum =rowSum + (feature_matrix[i][j]*weights[j])\n",
    "            \n",
    "            #predictions.append(rowSum)\n",
    "        #print(rowSum, end = ' --- ')\n",
    "        #print (max_value)\n",
    "        \n",
    "        if(rowSum>max_value):\n",
    "            max_value = rowSum\n",
    "        predictions.append(rowSum)\n",
    "    for i in range(len(predictions)):\n",
    "        predictions[i]=(predictions[i]+1)/(max_value+1)\n",
    "    #print(\"-----predictions-----\")\n",
    "    #print(predictions)\n",
    "    return predictions\n",
    "    ## end of code"
   ]
  },
  {
   "cell_type": "code",
   "execution_count": 43,
   "metadata": {},
   "outputs": [
    {
     "name": "stdout",
     "output_type": "stream",
     "text": [
      "(normalized) prediction at day 5:  0.038461538461538464\n",
      "(normalized) prediction at day 20  0.11057692307692307\n"
     ]
    }
   ],
   "source": [
    "# Copy the outputs of this code to the solution file\n",
    "my_weights = np.array([1., 1.])\n",
    "\n",
    "test_predictions = predict_output(test_features, my_weights)\n",
    "print (\"(normalized) prediction at day 5: \", test_predictions[5]) \n",
    "print (\"(normalized) prediction at day 20 \", test_predictions[20])"
   ]
  },
  {
   "cell_type": "markdown",
   "metadata": {},
   "source": [
    "# Compute the derivative"
   ]
  },
  {
   "cell_type": "markdown",
   "metadata": {},
   "source": [
    "We will now compute the derivative of the regression cost function: \n",
    "$$L_D(w) = \\frac{1}{n}\\sum_{i=1}^n (y_i-w\\cdot x_i)^2,$$\n",
    "where $x_i\\in \\mathrm{R}^d$ is the input feature of dimension $d$, $y_i\\in\\mathrm{R}$ is the output response, and $w\\in\\mathrm{R}^d$ is the regression weights.\n",
    "\n",
    "**Task P3:** Complete the function 'weight_derivative' to calculate the derivative of the cost function with respect to regression weights $w$, i.e., $\\frac{\\partial}{\\partial w}L_D(w)$. Note that this should be a $d$ dimensional vector. Also copy the output of the code for the test example to the solution file."
   ]
  },
  {
   "cell_type": "code",
   "execution_count": 19,
   "metadata": {
    "colab": {},
    "colab_type": "code",
    "id": "Xvp0delpux00"
   },
   "outputs": [],
   "source": [
    "def weight_derivative(weights, feature_matrix, labels):\n",
    "    # Input:\n",
    "    # weights: weight vector w, a numpy vector of dimension d\n",
    "    # feature_matrix: numpy array of size n by d, where n is the number of data points, and d is the feature dimension\n",
    "    # labels: true labels y, a numpy vector of dimension d\n",
    "    # Output:\n",
    "    # Derivative of the regression cost function with respect to the weight w, a numpy array of dimension d\n",
    "        \n",
    "    ## STUDENT: Start of code ###\n",
    "    \n",
    "    sum = 0\n",
    "    #print('---weight_derivaive---')\n",
    "    #print(feature_matrix)\n",
    "    #print(weights)\n",
    "    dot_product=predict_output(feature_matrix,weights)\n",
    "    \n",
    "    for i in range(len(feature_matrix)):\n",
    "        \n",
    "        diffrence = labels[i] - dot_product[i]\n",
    "        #print(dot_product[i], end = '---')\n",
    "        #print(labels[i])\n",
    "        #sum = sum + pow(2,diffrence)\n",
    "        sum = sum + diffrence\n",
    "    return sum/(len(feature_matrix))*2\n",
    "    # End of code ###"
   ]
  },
  {
   "cell_type": "code",
   "execution_count": 20,
   "metadata": {
    "colab": {
     "base_uri": "https://localhost:8080/",
     "height": 35
    },
    "colab_type": "code",
    "id": "Wlr5Agi4ux03",
    "outputId": "682c66f6-d3b2-4ce4-c378-75a3c32d71ab"
   },
   "outputs": [
    {
     "name": "stdout",
     "output_type": "stream",
     "text": [
      "-1.1789675787713623\n"
     ]
    }
   ],
   "source": [
    "# NOTE: copy the output to the solution file.\n",
    "\n",
    "(example_features, example_output) = get_numpy_data(data, ['Days'], 'People_tested') \n",
    "\n",
    "my_weights = np.array([0., 0.]) # this makes all the predictions 0\n",
    "derivative = weight_derivative(my_weights, example_features,example_output)\n",
    "\n",
    "print (derivative)"
   ]
  },
  {
   "cell_type": "markdown",
   "metadata": {},
   "source": [
    "# Gradient descent algorithm"
   ]
  },
  {
   "cell_type": "markdown",
   "metadata": {},
   "source": [
    "Here, we will write a function to perform gradient descent algorithm on the lineare regression cost. Given an initial point, we will update the current weights by moving in the negative gradient direction to minimize the cost function. Thus, in each iteration we obtain the updated weight $w_{t+1}$ from the current iterate $w_t$ as follows:\n",
    "$$w_{t+1} = w_t - h\\frac{\\partial}{\\partial w}L_D(w_t),$$\n",
    "where $h$ is the 'step_size' that is the amount by which we move in the negative gradient direction. \n",
    "\n",
    "We stop when we are sufficiently close to the optimum (where gradient is the zero vector) by checking the condition with respect to the magnitude (length) of the gradient vector:\n",
    "$$\\|\\frac{\\partial}{\\partial w}L_D(w_t)\\|_2\\leq \\epsilon,$$\n",
    "where $\\epsilon$ is the 'tolerance' parameter.\n",
    "\n",
    "**Task P4:** Complete the code section to perform the gradient decent in the function `regression_gradient_descent`. Copy the code to the solution file."
   ]
  },
  {
   "cell_type": "code",
   "execution_count": 21,
   "metadata": {
    "colab": {},
    "colab_type": "code",
    "id": "zo71SswVux1B"
   },
   "outputs": [],
   "source": [
    "def regression_gradient_descent(feature_matrix, labels, initial_weights, step_size, tolerance):\n",
    "    # Gradient descent algorithm for linear regression problem    \n",
    "    \n",
    "    # Input:\n",
    "    # feature_matrix: numpy array of size n by d, where n is the number of data points, and d is the feature dimension\n",
    "    # labels: true labels y, a numpy vector of dimension d\n",
    "    # initial_weights: initial weight vector to start with, a numpy vector of dimension d\n",
    "    # step_size: step size of update\n",
    "    # tolerance: tolerace epsilon for stopping condition\n",
    "    # Output:\n",
    "    # Weights obtained after convergence\n",
    "    #print('regression')\n",
    "    converged = False \n",
    "    weights = np.array(initial_weights) # current iterate\n",
    "    #print(initial_weights)\n",
    "    #print(weights)\n",
    "    #print('-r')\n",
    "    i = 0\n",
    "    while not converged:\n",
    "        i += 1\n",
    "        # STUDENT: Start of code: your impelementation of what the gradient descent algorithm does in every iteration\n",
    "        # Refer back to the update rule listed above: update the weight\n",
    "        \n",
    "    \n",
    "        # Compute the gradient magnitude:\n",
    "        #print (initial_weights)\n",
    "        weight_deriv = weight_derivative(weights[i-1], feature_matrix,labels)\n",
    "        \n",
    "        temp_gradient = [0]*len(weights[i-1])\n",
    "        \n",
    "        for a in range(len(weights[i-1])):\n",
    "            weight_deriv= weight_deriv*step_size\n",
    "            temp_gradient[a] =  weights[i-1][a] - weight_deriv\n",
    "        gradient_magnitude = temp_gradient\n",
    "        \n",
    "        #size of gradient magnitude\n",
    "        gradient_size = 0\n",
    "        \n",
    "        for a in gradient_magnitude:\n",
    "            gradient_size += pow(a,2)\n",
    "        gradient_size = pow(gradient_size,1/2)\n",
    "        \n",
    "        #reasign weights\n",
    "        #rint(weights[i])\n",
    "        for j in range(len(weights[i])):\n",
    "            weights[i][j]=gradient_magnitude[j]\n",
    "            #weights[i][j]=temp_gradient[j]\n",
    "            \n",
    "        # Check the stopping condition to decide whether you want to stop the iterations\n",
    "        if (gradient_size>=tolerance):             # STUDENT: check the stopping condition here\n",
    "            converged = True\n",
    "        if (i>=len(weights)-1):             # STUDENT: check the stopping condition here\n",
    "            converged = True\n",
    "        # End of code\n",
    "        \n",
    "        #print (\"Iteration: \",i,\"gradient_magnitude: \", gradient_magnitude) # for us to check about convergence\n",
    "        \n",
    "    return(gradient_magnitude)"
   ]
  },
  {
   "cell_type": "markdown",
   "metadata": {},
   "source": [
    "# Use gradient descent for linear regression"
   ]
  },
  {
   "cell_type": "markdown",
   "metadata": {},
   "source": [
    "Let's test the gradient descent algorithm for linear regression with a single feature ('Day'). Here we are using first 180 days' data as our training data."
   ]
  },
  {
   "cell_type": "code",
   "execution_count": 22,
   "metadata": {},
   "outputs": [],
   "source": [
    "#train_data\n",
    "train_data = data[:180]"
   ]
  },
  {
   "cell_type": "markdown",
   "metadata": {},
   "source": [
    "**Task P5:** Specify the initial_weights, step_size, and tolerance for the function `regression_gradient_descent`. Copy the outputs of the code to the solution file.\n"
   ]
  },
  {
   "cell_type": "code",
   "execution_count": 50,
   "metadata": {
    "colab": {},
    "colab_type": "code",
    "id": "Phah4z77ux1D"
   },
   "outputs": [
    {
     "name": "stdout",
     "output_type": "stream",
     "text": [
      "[[  1   1]\n",
      " [  1   2]\n",
      " [  1   3]\n",
      " [  1   4]\n",
      " [  1   5]\n",
      " [  1   6]\n",
      " [  1   7]\n",
      " [  1   8]\n",
      " [  1   9]\n",
      " [  1  10]\n",
      " [  1  11]\n",
      " [  1  12]\n",
      " [  1  13]\n",
      " [  1  14]\n",
      " [  1  15]\n",
      " [  1  16]\n",
      " [  1  17]\n",
      " [  1  18]\n",
      " [  1  19]\n",
      " [  1  20]\n",
      " [  1  21]\n",
      " [  1  22]\n",
      " [  1  23]\n",
      " [  1  24]\n",
      " [  1  25]\n",
      " [  1  26]\n",
      " [  1  27]\n",
      " [  1  28]\n",
      " [  1  29]\n",
      " [  1  30]\n",
      " [  1  31]\n",
      " [  1  32]\n",
      " [  1  33]\n",
      " [  1  34]\n",
      " [  1  35]\n",
      " [  1  36]\n",
      " [  1  37]\n",
      " [  1  38]\n",
      " [  1  39]\n",
      " [  1  40]\n",
      " [  1  41]\n",
      " [  1  42]\n",
      " [  1  43]\n",
      " [  1  44]\n",
      " [  1  45]\n",
      " [  1  46]\n",
      " [  1  47]\n",
      " [  1  48]\n",
      " [  1  49]\n",
      " [  1  50]\n",
      " [  1  51]\n",
      " [  1  52]\n",
      " [  1  53]\n",
      " [  1  54]\n",
      " [  1  55]\n",
      " [  1  56]\n",
      " [  1  57]\n",
      " [  1  58]\n",
      " [  1  59]\n",
      " [  1  60]\n",
      " [  1  61]\n",
      " [  1  62]\n",
      " [  1  63]\n",
      " [  1  64]\n",
      " [  1  65]\n",
      " [  1  66]\n",
      " [  1  67]\n",
      " [  1  68]\n",
      " [  1  69]\n",
      " [  1  70]\n",
      " [  1  71]\n",
      " [  1  72]\n",
      " [  1  73]\n",
      " [  1  74]\n",
      " [  1  75]\n",
      " [  1  76]\n",
      " [  1  77]\n",
      " [  1  78]\n",
      " [  1  79]\n",
      " [  1  80]\n",
      " [  1  81]\n",
      " [  1  82]\n",
      " [  1  83]\n",
      " [  1  84]\n",
      " [  1  85]\n",
      " [  1  86]\n",
      " [  1  87]\n",
      " [  1  88]\n",
      " [  1  89]\n",
      " [  1  90]\n",
      " [  1  91]\n",
      " [  1  92]\n",
      " [  1  93]\n",
      " [  1  94]\n",
      " [  1  95]\n",
      " [  1  96]\n",
      " [  1  97]\n",
      " [  1  98]\n",
      " [  1  99]\n",
      " [  1 100]\n",
      " [  1 101]\n",
      " [  1 102]\n",
      " [  1 103]\n",
      " [  1 104]\n",
      " [  1 105]\n",
      " [  1 106]\n",
      " [  1 107]\n",
      " [  1 108]\n",
      " [  1 109]\n",
      " [  1 110]\n",
      " [  1 111]\n",
      " [  1 112]\n",
      " [  1 113]\n",
      " [  1 114]\n",
      " [  1 115]\n",
      " [  1 116]\n",
      " [  1 117]\n",
      " [  1 118]\n",
      " [  1 119]\n",
      " [  1 120]\n",
      " [  1 121]\n",
      " [  1 122]\n",
      " [  1 123]\n",
      " [  1 124]\n",
      " [  1 125]\n",
      " [  1 126]\n",
      " [  1 127]\n",
      " [  1 128]\n",
      " [  1 129]\n",
      " [  1 130]\n",
      " [  1 131]\n",
      " [  1 132]\n",
      " [  1 133]\n",
      " [  1 134]\n",
      " [  1 135]\n",
      " [  1 136]\n",
      " [  1 137]\n",
      " [  1 138]\n",
      " [  1 139]\n",
      " [  1 140]\n",
      " [  1 141]\n",
      " [  1 142]\n",
      " [  1 143]\n",
      " [  1 144]\n",
      " [  1 145]\n",
      " [  1 146]\n",
      " [  1 147]\n",
      " [  1 148]\n",
      " [  1 149]\n",
      " [  1 150]\n",
      " [  1 151]\n",
      " [  1 152]\n",
      " [  1 153]\n",
      " [  1 154]\n",
      " [  1 155]\n",
      " [  1 156]\n",
      " [  1 157]\n",
      " [  1 158]\n",
      " [  1 159]\n",
      " [  1 160]\n",
      " [  1 161]\n",
      " [  1 162]\n",
      " [  1 163]\n",
      " [  1 164]\n",
      " [  1 165]\n",
      " [  1 166]\n",
      " [  1 167]\n",
      " [  1 168]\n",
      " [  1 169]\n",
      " [  1 170]\n",
      " [  1 171]\n",
      " [  1 172]\n",
      " [  1 173]\n",
      " [  1 174]\n",
      " [  1 175]\n",
      " [  1 176]\n",
      " [  1 177]\n",
      " [  1 178]\n",
      " [  1 179]\n",
      " [  1 180]]\n",
      "Here are the final weights after convergence:\n",
      "[1.0167987406610173, 0.05083993703305086]\n"
     ]
    },
    {
     "name": "stderr",
     "output_type": "stream",
     "text": [
      "C:\\Users\\kuent\\Anaconda3\\lib\\site-packages\\ipykernel_launcher.py:9: SettingWithCopyWarning: \n",
      "A value is trying to be set on a copy of a slice from a DataFrame.\n",
      "Try using .loc[row_indexer,col_indexer] = value instead\n",
      "\n",
      "See the caveats in the documentation: https://pandas.pydata.org/pandas-docs/stable/user_guide/indexing.html#returning-a-view-versus-a-copy\n",
      "  if __name__ == '__main__':\n"
     ]
    }
   ],
   "source": [
    "simple_features = ['Days']\n",
    "my_output = 'People_tested'\n",
    "\n",
    "# Use get_numpy_data method to calculate the feature matrix and output. \n",
    "(simple_feature_matrix, output) = get_numpy_data(train_data, simple_features, my_output)\n",
    "\n",
    "#Initialize the weights, step size and tolerance\n",
    "# Start of code\n",
    "#STUDENT: Specify the initial_weights, step_size, and tolerance\n",
    "\n",
    "temp_weights = np.array([0.]*2*len(simple_feature_matrix))\n",
    "\n",
    "initial_weights = temp_weights.reshape(len(simple_feature_matrix),2)\n",
    "step_size = 0.05\n",
    "tolerance = 1\n",
    "# end of code\n",
    "\n",
    "# Use the regression_gradient_descent function to calculate the gradient decent and store it in the variable 'final_weights'\n",
    "final_weights = regression_gradient_descent(simple_feature_matrix, output, initial_weights, step_size, tolerance)\n",
    "\n",
    "# end of code\n",
    "print (\"Here are the final weights after convergence:\")\n",
    "print (final_weights)"
   ]
  },
  {
   "cell_type": "markdown",
   "metadata": {},
   "source": [
    "**Task P6:** Use the learned weights to predict 'People_tested' in the last three weeks in the dataset. Copy the predictions to the solution file, and calculate the test error\n",
    "$$\\frac{1}{n_{\\mathrm{tst}}}\\sum_{i=1}^{n_{\\mathrm{tst}}} (y_i^{\\mathrm{tst}}-\\hat{y}_i^{\\mathrm{tst}})^2,$$\n",
    "where $n_{\\mathrm{tst}}$ is the number of test data, $y_i^{\\mathrm{tst}}$ is the true label, $\\hat{y}_i^{\\mathrm{tst}}$ is the predicted label."
   ]
  },
  {
   "cell_type": "code",
   "execution_count": 24,
   "metadata": {},
   "outputs": [
    {
     "name": "stderr",
     "output_type": "stream",
     "text": [
      "C:\\Users\\kuent\\Anaconda3\\lib\\site-packages\\ipykernel_launcher.py:9: SettingWithCopyWarning: \n",
      "A value is trying to be set on a copy of a slice from a DataFrame.\n",
      "Try using .loc[row_indexer,col_indexer] = value instead\n",
      "\n",
      "See the caveats in the documentation: https://pandas.pydata.org/pandas-docs/stable/user_guide/indexing.html#returning-a-view-versus-a-copy\n",
      "  if __name__ == '__main__':\n"
     ]
    }
   ],
   "source": [
    "# Create the test data\n",
    "test_data = data.iloc[-21:]\n",
    "(test_simple_feature_matrix, test_output) = get_numpy_data(test_data, simple_features, my_output)\n",
    "test_predictions = predict_output(test_simple_feature_matrix, final_weights)\n"
   ]
  },
  {
   "cell_type": "code",
   "execution_count": 25,
   "metadata": {},
   "outputs": [
    {
     "name": "stdout",
     "output_type": "stream",
     "text": [
      "0.002727328133312371\n"
     ]
    }
   ],
   "source": [
    "# Calculate the test error\n",
    "# STUDENT: Start of code\n",
    "test_error = 0;\n",
    "size = len(test_predictions)\n",
    "\n",
    "#print (test_output)\n",
    "#print(test_predictions)\n",
    "for i in range(size):\n",
    "    diff= test_output[i]-test_predictions[i]\n",
    "    test_error+=pow(diff,2)\n",
    "\n",
    "print(test_error/size)\n",
    "#end of code"
   ]
  },
  {
   "cell_type": "markdown",
   "metadata": {},
   "source": [
    "# Linear regression using multiple features"
   ]
  },
  {
   "cell_type": "markdown",
   "metadata": {},
   "source": [
    "Here, we will be considering multiple input features (`Intensive_care`,`New_positive_cases`,`Days`) to predict the `People_tested` in the future.\n",
    "\n",
    "**Task P7:** Specify the initial_weights, step_size, and tolerance for the function `regression_gradient_descent`. Print the outputs of the code.\n"
   ]
  },
  {
   "cell_type": "code",
   "execution_count": 26,
   "metadata": {
    "colab": {},
    "colab_type": "code",
    "id": "QLB46yGYwV6J"
   },
   "outputs": [
    {
     "name": "stdout",
     "output_type": "stream",
     "text": [
      "Here are the final weights after convergence:\n",
      "[1.0439592334600856, 0.052197961673004264, 0.002609898083650214, 0.00013049490418251073]\n"
     ]
    }
   ],
   "source": [
    "model_features = ['Intensive_care','New_positive_cases','Days'] \n",
    "my_output = 'People_tested'\n",
    "\n",
    "#call the get_nupy_data method to calculate the feature matrix and output. Store them in the variables \"multi_feature_matrix\" & \"output\"\n",
    "\n",
    "(multi_feature_matrix, output) = get_numpy_data(data, model_features, my_output)\n",
    "\n",
    "# Initialize the weights, step size and tolerance\n",
    "# STUDENT: Start of code\n",
    "# STUDENT: Specify the initial_weights, step_size, and tolerance\n",
    "#print(len(multi_feature_matrix))\n",
    "temp_weights = np.array([0.]*4*len(multi_feature_matrix))\n",
    "\n",
    "initial_weights = temp_weights.reshape(len(multi_feature_matrix),4)\n",
    "#print(initial_weights)\n",
    "step_size = 0.05\n",
    "tolerance = 1\n",
    "#print(multi_feature_matrix)\n",
    "#print(output)\n",
    "# end of code\n",
    "\n",
    "weight_2 = regression_gradient_descent(multi_feature_matrix, output, initial_weights, step_size, tolerance)\n",
    "print (\"Here are the final weights after convergence:\")\n",
    "print (weight_2)"
   ]
  },
  {
   "cell_type": "markdown",
   "metadata": {},
   "source": [
    "**Task P8:** Use the learned weights to predict 'People_tested' in the last three weeks in the dataset.Find the value of the model predictions on the 10th day of the forecasting period.Also print the actual number of people tested on that particular day. Copy the predictions to the solution file, and calculate the test error. Note: here we are asking you to report the number before normalization. So you need to convert the prediction back to the unit of people."
   ]
  },
  {
   "cell_type": "code",
   "execution_count": 27,
   "metadata": {
    "colab": {
     "base_uri": "https://localhost:8080/",
     "height": 919
    },
    "colab_type": "code",
    "id": "EjDMsSxtwWHY",
    "outputId": "b1d98d68-5301-4f1a-8fdc-0e2345714769"
   },
   "outputs": [
    {
     "name": "stdout",
     "output_type": "stream",
     "text": [
      "0.9988797902036922\n",
      "Model prediction of the 10th day: 10033303\n",
      "Actual number of people tested on the 10th day: 8725909\n"
     ]
    },
    {
     "name": "stderr",
     "output_type": "stream",
     "text": [
      "C:\\Users\\kuent\\Anaconda3\\lib\\site-packages\\ipykernel_launcher.py:9: SettingWithCopyWarning: \n",
      "A value is trying to be set on a copy of a slice from a DataFrame.\n",
      "Try using .loc[row_indexer,col_indexer] = value instead\n",
      "\n",
      "See the caveats in the documentation: https://pandas.pydata.org/pandas-docs/stable/user_guide/indexing.html#returning-a-view-versus-a-copy\n",
      "  if __name__ == '__main__':\n"
     ]
    }
   ],
   "source": [
    "(test_feature_matrix, test_output) = get_numpy_data(test_data, model_features, my_output)\n",
    "\n",
    "test_predictions_2 = predict_output(test_feature_matrix, weight_2)\n",
    "\n",
    "#Prediction for the 10th day of the forecasting period.\n",
    "print (test_predictions_2[10])\n",
    "\n",
    "#Convert the normalized data back to original figures using the same min-max normalization\n",
    "prediction_10th_day = test_predictions_2[10] * (data_orig['People_tested'].max() - data_orig['People_tested'].min()) + data_orig['People_tested'].min()\n",
    "\n",
    "print (\"Model prediction of the 10th day:\",int(prediction_10th_day))\n",
    "\n",
    "# Get the actual number of people tested from our test data on 10 th day of forecasting period.\n",
    "actual_people_tested = data_orig[\"People_tested\"].iloc[190]\n",
    "\n",
    "print (\"Actual number of people tested on the 10th day:\",actual_people_tested)\n"
   ]
  },
  {
   "cell_type": "code",
   "execution_count": 28,
   "metadata": {},
   "outputs": [
    {
     "name": "stdout",
     "output_type": "stream",
     "text": [
      "0.009706376971805162\n"
     ]
    }
   ],
   "source": [
    "# Calculate the test error\n",
    "# STUDENT: Start of code\n",
    "test_error = 0;\n",
    "size = len(test_predictions_2)\n",
    "\n",
    "for i in range(size):\n",
    "    diff= test_output[i]-test_predictions_2[i]\n",
    "    test_error+=pow(diff,2)\n",
    "\n",
    "print(test_error/size)\n",
    "\n",
    "# end of code"
   ]
  },
  {
   "cell_type": "markdown",
   "metadata": {
    "colab_type": "text",
    "id": "TjMi9-rKux4y"
   },
   "source": [
    "# Explore on your own"
   ]
  },
  {
   "cell_type": "markdown",
   "metadata": {
    "colab_type": "text",
    "id": "UyzUUzfOux4z"
   },
   "source": [
    "Now that you have tried two models for predictions, in this section, you can explore on your own an aspect of the problem that interests you. Here are some examples:\n",
    "* What features or what combination of features are most predictive for 'People_tested'?\n",
    "* How does tolerance for convergence affect prediction errors?\n",
    "* How does step size affect prediction errors?\n",
    "* How can we use validation to select the set of features to improve prediction?\n",
    "\n",
    "Report your question of investigation, as well as your results/interpretation in the solution file."
   ]
  },
  {
   "cell_type": "code",
   "execution_count": 49,
   "metadata": {
    "colab": {},
    "colab_type": "code",
    "id": "QE7JK14Mux4z"
   },
   "outputs": [
    {
     "name": "stdout",
     "output_type": "stream",
     "text": [
      "tolerance:  1\n",
      "test_error:  0.009706376971805162\n",
      "tolerance:  3\n"
     ]
    },
    {
     "name": "stderr",
     "output_type": "stream",
     "text": [
      "C:\\Users\\kuent\\Anaconda3\\lib\\site-packages\\ipykernel_launcher.py:9: SettingWithCopyWarning: \n",
      "A value is trying to be set on a copy of a slice from a DataFrame.\n",
      "Try using .loc[row_indexer,col_indexer] = value instead\n",
      "\n",
      "See the caveats in the documentation: https://pandas.pydata.org/pandas-docs/stable/user_guide/indexing.html#returning-a-view-versus-a-copy\n",
      "  if __name__ == '__main__':\n"
     ]
    },
    {
     "name": "stdout",
     "output_type": "stream",
     "text": [
      "test_error:  0.009591340487839297\n",
      "tolerance:  5\n",
      "test_error:  0.009553031895550554\n",
      "tolerance:  7\n",
      "test_error:  0.00953341217290619\n",
      "tolerance:  9\n",
      "test_error:  0.009522001706408758\n",
      "tolerance:  11\n",
      "test_error:  0.009514178810549319\n",
      "tolerance:  13\n",
      "test_error:  0.009512453898728008\n",
      "tolerance:  15\n",
      "test_error:  0.009512453898728008\n",
      "tolerance:  17\n",
      "test_error:  0.009512453898728008\n",
      "tolerance:  19\n",
      "test_error:  0.009512453898728008\n"
     ]
    }
   ],
   "source": [
    "# Explore an aspect of the model that interests you\n",
    "### STUDENT: Start of code\n",
    "model_features = ['Intensive_care','New_positive_cases','Days'] \n",
    "my_output = 'People_tested'\n",
    "\n",
    "#call the get_nupy_data method to calculate the feature matrix and output. Store them in the variables \"multi_feature_matrix\" & \"output\"\n",
    "\n",
    "(multi_feature_matrix, output) = get_numpy_data(data, model_features, my_output)\n",
    "\n",
    "# Initialize the weights, step size and tolerance\n",
    "# STUDENT: Start of code\n",
    "# STUDENT: Specify the initial_weights, step_size, and tolerance\n",
    "\n",
    "temp_weights = np.array([0.]*4*len(multi_feature_matrix))\n",
    "\n",
    "\n",
    "\n",
    "\n",
    "step_size = 0.05\n",
    "tolerance = 1\n",
    "\n",
    "while tolerance < 20:\n",
    "    \n",
    "    print ('tolerance: ', end = ' ')\n",
    "    print(tolerance)\n",
    "    \n",
    "    initial_weights = temp_weights.reshape(len(multi_feature_matrix),4)\n",
    "\n",
    "    weight_2 = regression_gradient_descent(multi_feature_matrix, output, initial_weights, step_size, tolerance)\n",
    "\n",
    "    (test_feature_matrix, test_output) = get_numpy_data(test_data, model_features, my_output)\n",
    "\n",
    "    test_predictions_2 = predict_output(test_feature_matrix, weight_2)\n",
    "\n",
    "    test_error = 0;\n",
    "    size = len(test_predictions_2)\n",
    "    print('test_error: ', end = ' ')\n",
    "    for i in range(size):\n",
    "        diff= test_output[i]-test_predictions_2[i]\n",
    "        test_error+=pow(diff,2)\n",
    "\n",
    "    print(test_error/size)\n",
    "    tolerance +=2\n",
    "    \n",
    "   \n",
    "\n",
    "### End of code"
   ]
  },
  {
   "cell_type": "code",
   "execution_count": null,
   "metadata": {},
   "outputs": [],
   "source": []
  },
  {
   "cell_type": "code",
   "execution_count": null,
   "metadata": {},
   "outputs": [],
   "source": []
  },
  {
   "cell_type": "code",
   "execution_count": null,
   "metadata": {},
   "outputs": [],
   "source": []
  },
  {
   "cell_type": "code",
   "execution_count": null,
   "metadata": {},
   "outputs": [],
   "source": []
  },
  {
   "cell_type": "code",
   "execution_count": null,
   "metadata": {},
   "outputs": [],
   "source": []
  },
  {
   "cell_type": "code",
   "execution_count": null,
   "metadata": {},
   "outputs": [],
   "source": []
  }
 ],
 "metadata": {
  "colab": {
   "name": "linear_regression.ipynb",
   "provenance": []
  },
  "kernelspec": {
   "display_name": "Python 3",
   "language": "python",
   "name": "python3"
  },
  "language_info": {
   "codemirror_mode": {
    "name": "ipython",
    "version": 3
   },
   "file_extension": ".py",
   "mimetype": "text/x-python",
   "name": "python",
   "nbconvert_exporter": "python",
   "pygments_lexer": "ipython3",
   "version": "3.6.4"
  }
 },
 "nbformat": 4,
 "nbformat_minor": 1
}
