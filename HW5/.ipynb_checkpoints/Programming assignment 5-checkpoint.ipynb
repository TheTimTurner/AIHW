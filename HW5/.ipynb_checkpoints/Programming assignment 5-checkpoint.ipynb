{
 "cells": [
  {
   "cell_type": "markdown",
   "metadata": {},
   "source": [
    "# Distributed Representation for Word Embeddings"
   ]
  },
  {
   "cell_type": "markdown",
   "metadata": {},
   "source": [
    "In this programming assignment, we will experiment with distributed representations of words. We'll also see how such an embedding can be constructed by applying principal component analysis to a suitably transformed matrix of word co-occurrence probabilities. For computational reasons, we'll use the moderately sized **Brown corpus of present-day American English** for this."
   ]
  },
  {
   "cell_type": "markdown",
   "metadata": {},
   "source": [
    "## 1. Accessing the Brown corpus"
   ]
  },
  {
   "cell_type": "markdown",
   "metadata": {},
   "source": [
    "The *Brown corpus* is available as part of the Python Natural Language Toolkit (`nltk`)."
   ]
  },
  {
   "cell_type": "code",
   "execution_count": 2,
   "metadata": {},
   "outputs": [
    {
     "name": "stdout",
     "output_type": "stream",
     "text": [
      "[nltk_data] Downloading package brown to\n",
      "[nltk_data]     C:\\Users\\kuent\\AppData\\Roaming\\nltk_data...\n",
      "[nltk_data]   Package brown is already up-to-date!\n",
      "[nltk_data] Downloading package stopwords to\n",
      "[nltk_data]     C:\\Users\\kuent\\AppData\\Roaming\\nltk_data...\n",
      "[nltk_data]   Package stopwords is already up-to-date!\n"
     ]
    }
   ],
   "source": [
    "import numpy as np\n",
    "import pickle\n",
    "import nltk\n",
    "nltk.download('brown')\n",
    "nltk.download('stopwords')\n",
    "from nltk.corpus import brown, stopwords\n",
    "from scipy.cluster.vq import kmeans2\n",
    "from sklearn.decomposition import PCA"
   ]
  },
  {
   "cell_type": "markdown",
   "metadata": {},
   "source": [
    "The corpus consists of 500 samples of text drawn from a wide range of sources. When these are concatenated, they form a very long stream of over a million words, which is available as `brown.words()`. Let's look at the first 50 words."
   ]
  },
  {
   "cell_type": "code",
   "execution_count": 3,
   "metadata": {},
   "outputs": [
    {
     "name": "stdout",
     "output_type": "stream",
     "text": [
      "The\n",
      "Fulton\n",
      "County\n",
      "Grand\n",
      "Jury\n",
      "said\n",
      "Friday\n",
      "an\n",
      "investigation\n",
      "of\n",
      "Atlanta's\n",
      "recent\n",
      "primary\n",
      "election\n",
      "produced\n",
      "``\n",
      "no\n",
      "evidence\n",
      "''\n",
      "that\n"
     ]
    }
   ],
   "source": [
    "for i in range(20):\n",
    "    print (brown.words()[i],)"
   ]
  },
  {
   "cell_type": "markdown",
   "metadata": {},
   "source": [
    "Before doing anything else, let's remove stopwords and punctuation and make everything lowercase. The resulting sequence will be stored in `my_word_stream`."
   ]
  },
  {
   "cell_type": "code",
   "execution_count": 4,
   "metadata": {},
   "outputs": [],
   "source": [
    "my_stopwords = set(stopwords.words('english'))\n",
    "word_stream = [str(w).lower() for w in brown.words() if w.lower() not in my_stopwords]\n",
    "my_word_stream = [w for w in word_stream if (len(w) > 1 and w.isalnum())]"
   ]
  },
  {
   "cell_type": "markdown",
   "metadata": {},
   "source": [
    "Here are the initial 20 words in `my_word_stream`."
   ]
  },
  {
   "cell_type": "code",
   "execution_count": 5,
   "metadata": {},
   "outputs": [
    {
     "data": {
      "text/plain": [
       "['fulton',\n",
       " 'county',\n",
       " 'grand',\n",
       " 'jury',\n",
       " 'said',\n",
       " 'friday',\n",
       " 'investigation',\n",
       " 'recent',\n",
       " 'primary',\n",
       " 'election',\n",
       " 'produced',\n",
       " 'evidence',\n",
       " 'irregularities',\n",
       " 'took',\n",
       " 'place',\n",
       " 'jury',\n",
       " 'said',\n",
       " 'presentments',\n",
       " 'city',\n",
       " 'executive']"
      ]
     },
     "execution_count": 5,
     "metadata": {},
     "output_type": "execute_result"
    }
   ],
   "source": [
    "my_word_stream[:20]"
   ]
  },
  {
   "cell_type": "markdown",
   "metadata": {},
   "source": [
    "## 2. Computing co-occurrence probabilities"
   ]
  },
  {
   "cell_type": "markdown",
   "metadata": {},
   "source": [
    "**Task P1**: Complete the following code to get a list of words and their counts. Report how many times does the word \"evidence\" and \"investigation\" appears in the corpus."
   ]
  },
  {
   "cell_type": "code",
   "execution_count": 6,
   "metadata": {},
   "outputs": [],
   "source": [
    "N = len(my_word_stream)\n",
    "words = []\n",
    "totals = {}\n",
    "\n",
    "## STUDENT: Your code here\n",
    "# words: a python list of unique words in the document my_word_stream as the vocabulary\n",
    "# totals: a python dictionary, where each word is a key, and the corresponding value\n",
    "#         is the number of times this word appears in the document my_word_stream\n",
    "#temp_words=my_word_stream.sort()\n",
    "\n",
    "\n",
    "for i in range(N):\n",
    "   \n",
    "    curr_word = my_word_stream[i]\n",
    "    if totals.get(curr_word) is None:\n",
    "        totals[curr_word]=1\n",
    "    elif totals.get(curr_word) > 0:\n",
    "         totals[curr_word]+=1\n",
    "    \n",
    "    if totals[curr_word] == 1:\n",
    "        words.append(curr_word)\n",
    "    \n",
    "\n",
    "    \n",
    "## STUDENT CODE ENDS"
   ]
  },
  {
   "cell_type": "code",
   "execution_count": 7,
   "metadata": {},
   "outputs": [
    {
     "name": "stdout",
     "output_type": "stream",
     "text": [
      "Word \" produced \" appears  90  times\n",
      "Word \" friday \" appears  60  times\n"
     ]
    }
   ],
   "source": [
    "## STUDENT: Report how many times does the word \"evidence\" and \"investigation\" appears in the corpus.\n",
    "\n",
    "print ('Word \"',words[10],'\" appears ',totals[words[10]], ' times')\n",
    "print ('Word \"',words[5],'\" appears ',totals[words[5]], ' times')\n"
   ]
  },
  {
   "cell_type": "markdown",
   "metadata": {},
   "source": [
    "** Task P2**: Decide on the vocabulary. There are two potentially distinct vocabularies: the words for which we will obtain embeddings (`vocab_words`) and the words we will consider when looking at context information (`context_words`). We will take the former to be all words that occur at least 20 times, and the latter to be all words that occur at least 100 times. We will stick to these choices for this assignment, but feel free to play around with them and find something better.\n",
    "\n",
    "How large are these two word lists? Note down these numbers."
   ]
  },
  {
   "cell_type": "code",
   "execution_count": 93,
   "metadata": {},
   "outputs": [
    {
     "name": "stdout",
     "output_type": "stream",
     "text": [
      "447\n",
      "Number of vocabulary words  4720 ;\n",
      "Number of context words  918 ;\n",
      "found\n"
     ]
    }
   ],
   "source": [
    "## STUDENT: Your code here\n",
    "    \n",
    "vocab_words = [] # a list of words whose occurances (totals) are > 19\n",
    "context_words = []  # a list of words whose occurances (totals) are > 99\n",
    "\n",
    "for i in range(len(words)):\n",
    "    if (words[i]=='fact') :\n",
    "        print(totals[words[i]])\n",
    "    if (totals[words[i]]>99):\n",
    "        context_words.append(words[i])\n",
    "    if (totals[words[i]] > 19):\n",
    "        vocab_words.append(words[i])\n",
    "\n",
    "## STUDENT CODE ENDS\n",
    "print ('Number of vocabulary words ',len(vocab_words), ';')\n",
    "print ('Number of context words ',len(context_words), ';' )\n",
    "\n",
    "if 'fact' in context_words:\n",
    "    print('found')\n",
    "#print((if 'fact' in context_words))"
   ]
  },
  {
   "cell_type": "markdown",
   "metadata": {},
   "source": [
    "**Task P3**: Get co-occurrence counts. These are defined as follows, for a small constant `window_size=2`.\n",
    "\n",
    "* Let `w0` be any word in `vocab_words` and `w` any word in `context_words`.\n",
    "* Each time `w0` occurs in the corpus, look at the window of `window_size` words before and after it. If `w` appears in this window, we say it appears in the context of (this particular occurrence of) `w0`.\n",
    "* Define `counts[w0][w]` as the total number of times `w` occurs in the context of `w0`.\n",
    "\n",
    "Complete the function `get_counts`, which computes the `counts` array and returns it as a dictionary (of dictionaries). Find how many times the word \"fact\" appears in the context of ”evidence\" with window_size=2."
   ]
  },
  {
   "cell_type": "code",
   "execution_count": 115,
   "metadata": {},
   "outputs": [],
   "source": [
    "def get_counts(window_size=2):\n",
    "    ## Input:\n",
    "    #  window_size: for each word w0, its context includes window_size words before and after it. \n",
    "    #  For instance, if window_size = 2, it means we look at w1 w2 w0 w3 w4, where  w1, w2, w3, w4 are \n",
    "    #  context words\n",
    "    ## Output:\n",
    "    #  counts: a python dictionary (of dictionaries) where counts[w0][w] indicate the number of times the word w appears \n",
    "    #  in the context of w0 (Note: counts[w0] is also a python dictionary)\n",
    "    \n",
    "    counts = {}\n",
    "    #collumn = {}\n",
    "    #for i in range(len(context_words)):\n",
    "        #collumn[context_words[i]] = 0\n",
    "    \n",
    "    a = 0\n",
    "    for w0 in vocab_words:\n",
    "        \n",
    "        #print(a, end = ', ')\n",
    "        counts[w0] = {}\n",
    "        for i in range(len(my_word_stream)):\n",
    "            #we are on w0 the current word in our count query\n",
    "            if my_word_stream[i] == w0:\n",
    "                #if (w0 == 'evidence'):\n",
    "                    #print('----evidence----')\n",
    "                #get current window (w1,w2,w3,w4) in relation to the current word\n",
    "                for j in range(window_size):\n",
    "                    #get the upper and lower index ex. w2 w3\n",
    "                    lower = i-j-1\n",
    "                    upper = i+j+1\n",
    "                    #do upper\n",
    "                    \n",
    "                    if upper<len(my_word_stream):\n",
    "                        #if a word is a context word\n",
    "                        if my_word_stream[upper] in context_words:\n",
    "                            if counts[w0].get(my_word_stream[upper]) is None:\n",
    "                                counts[w0][my_word_stream[upper]]=1\n",
    "                            elif counts[w0].get(my_word_stream[upper]) >= 0:\n",
    "                                counts[w0][my_word_stream[upper]]+=1\n",
    "                                #if w0 == 'evidence':\n",
    "                                    #print(upper, ': ', my_word_stream[upper], end = ', ')\n",
    "\n",
    "                    #do lower\n",
    "                    if lower>0:\n",
    "                        #if a word is a context word\n",
    "                        if my_word_stream[lower] in context_words:\n",
    "                            if counts[w0].get(my_word_stream[lower]) is None:\n",
    "                                counts[w0][my_word_stream[lower]]=1\n",
    "                            elif counts[w0].get(my_word_stream[lower]) >= 0:\n",
    "                                counts[w0][my_word_stream[lower]]+=1\n",
    "                                #if w0 == 'evidence':\n",
    "                                    #print(lower , ': ', my_word_stream[lower], end = ', ')\n",
    "    \n",
    "        a+=1\n",
    "    ## STUDENT: Your code here\n",
    "    \n",
    "    \n",
    "    ## End of codes\n",
    "    return counts"
   ]
  },
  {
   "cell_type": "code",
   "execution_count": 116,
   "metadata": {},
   "outputs": [
    {
     "name": "stdout",
     "output_type": "stream",
     "text": [
      "4\n"
     ]
    }
   ],
   "source": [
    "## STUDENT: Report how many times the word \"fact\" appears in the context of ”evidence\".\n",
    "\n",
    "counts = get_counts(window_size=2)\n",
    "\n",
    "print (counts['evidence']['fact'])\n"
   ]
  },
  {
   "cell_type": "markdown",
   "metadata": {},
   "source": [
    "Define `probs[w0][]` to be the distribution over the context of `w0`, that is:\n",
    "* `probs[w0][w] = counts[w0][w] / (sum of all counts[w0][])`\n",
    "\n",
    "**Task P4**: Finish the function `get_co_occurrence_dictionary` that computes `probs`. Find the probability that the word \"fact\" appears in the context of ”evidence\"."
   ]
  },
  {
   "cell_type": "code",
   "execution_count": 118,
   "metadata": {},
   "outputs": [],
   "source": [
    "def get_co_occurrence_dictionary(counts):\n",
    "    ## Input:\n",
    "    #  counts: a python dictionary (of dictionaries) where counts[w0][w] indicate the number of times the word w appears \n",
    "    #  in the context of w0 (Note: counts[w0] is also a python dictionary)\n",
    "    ## Output:\n",
    "    #  probs: a python dictionary (of dictionaries) where probs[w0][w] indicate the probability that word w appears \n",
    "    #  in the context of word w0\n",
    "    \n",
    "    probs = {}\n",
    "    \n",
    "    ## STUDENT: Your code here\n",
    "    for w0 in counts:\n",
    "        #get the sum\n",
    "        sum = 0\n",
    "        for w in counts[w0]:\n",
    "            sum += counts[w0][w]\n",
    "        \n",
    "        #divide each element \n",
    "        probs[w0]={}\n",
    "        for w in counts[w0]:\n",
    "            curr = counts[w0][w]/sum\n",
    "            probs[w0][w]=curr\n",
    "    ## End of codes\n",
    "    return probs"
   ]
  },
  {
   "cell_type": "code",
   "execution_count": 119,
   "metadata": {},
   "outputs": [
    {
     "name": "stdout",
     "output_type": "stream",
     "text": [
      "0.010723860589812333\n"
     ]
    }
   ],
   "source": [
    "## STUDENT: Report how many times the word \"fact\" appears in the context of ”evidence\".\n",
    "probs = get_co_occurrence_dictionary(counts)\n",
    "print (probs['evidence']['fact'])"
   ]
  },
  {
   "cell_type": "markdown",
   "metadata": {},
   "source": [
    "The final piece of information we need is the frequency of different context words. The function below, `get_context_word_distribution`, takes `counts` as input and returns (again, in dictionary form) the array:\n",
    "\n",
    "* `context_frequency[w]` = sum of all `counts[][w]` / sum of all `counts[][]` "
   ]
  },
  {
   "cell_type": "code",
   "execution_count": 120,
   "metadata": {},
   "outputs": [],
   "source": [
    "def get_context_word_distribution(counts):\n",
    "    counts_context = {}\n",
    "    sum_context = 0\n",
    "    context_frequency = {}\n",
    "    for w in context_words:\n",
    "        counts_context[w] = 0\n",
    "    for w0 in counts.keys():\n",
    "        for w in counts[w0].keys():\n",
    "           \n",
    "            counts_context[w] = counts_context[w] + counts[w0][w]\n",
    "            sum_context = sum_context + counts[w0][w]\n",
    "    for w in context_words:\n",
    "        context_frequency[w] = float(counts_context[w])/float(sum_context)\n",
    "    return context_frequency"
   ]
  },
  {
   "cell_type": "markdown",
   "metadata": {},
   "source": [
    "## 3. The embedding"
   ]
  },
  {
   "cell_type": "markdown",
   "metadata": {},
   "source": [
    "**Task P5**: Based on the various pieces of information above, we compute the **pointwise mutual information matrix**:\n",
    "* `PMI[i,j] = MAX(0, log probs[ith vocab word][jth context word] - log context_frequency[jth context word])`\n",
    "\n",
    "Complete the code to compute PMI for every word i and context word j. Report the output of the code."
   ]
  },
  {
   "cell_type": "code",
   "execution_count": 121,
   "metadata": {},
   "outputs": [
    {
     "name": "stdout",
     "output_type": "stream",
     "text": [
      "Computing counts and distributions\n",
      "Computing pointwise mutual information\n"
     ]
    }
   ],
   "source": [
    "print (\"Computing counts and distributions\")\n",
    "#counts = get_counts(2)\n",
    "probs = get_co_occurrence_dictionary(counts)\n",
    "context_frequency = get_context_word_distribution(counts)\n",
    "#\n",
    "print (\"Computing pointwise mutual information\")\n",
    "n_vocab = len(vocab_words)\n",
    "n_context = len(context_words)\n",
    "pmi = np.zeros((n_vocab, n_context))\n",
    "for i in range(0, n_vocab):\n",
    "    w0 = vocab_words[i]\n",
    "    for w in probs[w0].keys():\n",
    "        j = context_words.index(w)\n",
    "        ## STUDENT: Your code here\n",
    "        probs_log = np.log(probs[vocab_words[i]][context_words[j]]) \n",
    "        context_log = np.log(context_frequency[context_words[j]]) \n",
    "        diff = probs_log - context_log\n",
    "        pmi[i,j] = max(0, diff)\n",
    "        ## Student end of code"
   ]
  },
  {
   "cell_type": "code",
   "execution_count": 122,
   "metadata": {},
   "outputs": [
    {
     "name": "stdout",
     "output_type": "stream",
     "text": [
      "1.6886695253770467\n"
     ]
    }
   ],
   "source": [
    "# STUDENT: report the following number\n",
    "\n",
    "print (pmi[vocab_words.index('evidence'),context_words.index('fact')])"
   ]
  },
  {
   "cell_type": "markdown",
   "metadata": {},
   "source": [
    "The embedding of any word can then be taken as the corresponding row of this matrix. However, to reduce the dimension, we will apply principal component analysis (PCA).\n",
    "\n",
    "See this nice tutorial on PCA: https://www.youtube.com/watch?v=fkf4IBRSeEc\n",
    "\n",
    "Now reduce the dimension of the PMI vectors using principal component analysis. Here we bring it down to 100 dimensions, and then normalize the vectors to unit length."
   ]
  },
  {
   "cell_type": "code",
   "execution_count": 136,
   "metadata": {},
   "outputs": [
    {
     "name": "stdout",
     "output_type": "stream",
     "text": [
      "PCA(copy=True, iterated_power='auto', n_components=100, random_state=None,\n",
      "  svd_solver='auto', tol=0.0, whiten=False)\n"
     ]
    }
   ],
   "source": [
    "pca = PCA(n_components=100)\n",
    "\n",
    "vecs = pca.fit_transform(pmi)\n",
    "for i in range(0,n_vocab):\n",
    "   \n",
    "    vecs[i] = vecs[i]/np.linalg.norm(vecs[i])\n",
    "    "
   ]
  },
  {
   "cell_type": "markdown",
   "metadata": {},
   "source": [
    "It is useful to save this embedding so that it doesn't need to be computed every time."
   ]
  },
  {
   "cell_type": "code",
   "execution_count": 124,
   "metadata": {},
   "outputs": [],
   "source": [
    "fd = open(\"embedding.pickle\", \"wb\")\n",
    "pickle.dump(vocab_words, fd)\n",
    "pickle.dump(context_words, fd)\n",
    "pickle.dump(vecs, fd)\n",
    "fd.close()"
   ]
  },
  {
   "cell_type": "code",
   "execution_count": 212,
   "metadata": {},
   "outputs": [
    {
     "name": "stdout",
     "output_type": "stream",
     "text": [
      "4720\n",
      "100\n"
     ]
    }
   ],
   "source": [
    "print(len(vecs))\n",
    "print(len(vecs[0]))"
   ]
  },
  {
   "cell_type": "markdown",
   "metadata": {},
   "source": [
    "## 4. Experimenting with the embedding"
   ]
  },
  {
   "cell_type": "markdown",
   "metadata": {},
   "source": [
    "We can get some insight into the embedding by looking at some intersting use cases.\n",
    "\n",
    "** Task P6**: Implement the following function that finds the nearest neighbor of a given word in the embedded space. Note down the answers to the following queries. "
   ]
  },
  {
   "cell_type": "code",
   "execution_count": 216,
   "metadata": {},
   "outputs": [],
   "source": [
    "def word_NN(w,vecs,vocab_words,context_words):\n",
    "    ## Input:\n",
    "    #  w: word w\n",
    "    #  vecs: the embedding of words, as computed above\n",
    "    #  vocab_words: vocabulary words, as computed in Task P2\n",
    "    #  context_words: context words, as computed in Task P2\n",
    "    ## Output:\n",
    "    #  the nearest neighbor (word) to word w\n",
    "    if not(w in vocab_words):\n",
    "        print (\"Unknown word\")\n",
    "        return\n",
    "    ## Student: your code here\n",
    "    K = 10 ##K nearest neighbors number\n",
    "    \n",
    "    word_index = vocab_words.index(w)\n",
    "    distances = []\n",
    "    min_value = 10\n",
    "    min_index = 0\n",
    "    \n",
    "    for i in range(len(vocab_words)):\n",
    "        #find the distance between target and current word\n",
    "       \n",
    "        curr_distance = np.sum(np.abs(vecs[i]-vecs[word_index]))\n",
    "        #check if we can add it to the min distance array\n",
    "        if not i == word_index:\n",
    "            item = [curr_distance, vocab_words[i]]\n",
    "            distances.append(item)\n",
    "            distances.sort(key=lambda x: x[0])\n",
    "            if len(distances)>K:\n",
    "                distances = distances[:-1]\n",
    "    \n",
    "    for i in range(len(distances)):        \n",
    "        print('word ', (i+1), ': ', distances[i][1], ', distance: ', distances[i][0])\n",
    "    \n",
    "    return #distances\n",
    "    ## Student: code ends"
   ]
  },
  {
   "cell_type": "code",
   "execution_count": 217,
   "metadata": {},
   "outputs": [
    {
     "name": "stdout",
     "output_type": "stream",
     "text": [
      "word  1 :  war , distance:  6.854701390273407\n",
      "word  2 :  nation , distance:  7.231578503560567\n",
      "word  3 :  western , distance:  7.557653285661635\n",
      "word  4 :  peoples , distance:  7.587181734224687\n",
      "word  5 :  nations , distance:  7.6032793659734015\n",
      "word  6 :  peace , distance:  7.692075400042628\n",
      "word  7 :  america , distance:  7.770834000115923\n",
      "word  8 :  freedom , distance:  7.819855974167947\n",
      "word  9 :  throughout , distance:  7.939283779290143\n",
      "word  10 :  soviet , distance:  8.012411876222492\n"
     ]
    },
    {
     "data": {
      "text/plain": [
       "[[6.854701390273407, 'war'],\n",
       " [7.231578503560567, 'nation'],\n",
       " [7.557653285661635, 'western'],\n",
       " [7.587181734224687, 'peoples'],\n",
       " [7.6032793659734015, 'nations'],\n",
       " [7.692075400042628, 'peace'],\n",
       " [7.770834000115923, 'america'],\n",
       " [7.819855974167947, 'freedom'],\n",
       " [7.939283779290143, 'throughout'],\n",
       " [8.012411876222492, 'soviet']]"
      ]
     },
     "execution_count": 217,
     "metadata": {},
     "output_type": "execute_result"
    }
   ],
   "source": [
    "word_NN('world',vecs,vocab_words,context_words)"
   ]
  },
  {
   "cell_type": "code",
   "execution_count": 218,
   "metadata": {},
   "outputs": [
    {
     "name": "stdout",
     "output_type": "stream",
     "text": [
      "word  1 :  without , distance:  8.326817081435463\n",
      "word  2 :  oedipus , distance:  8.46623970954703\n",
      "word  3 :  process , distance:  8.674863917221579\n",
      "word  4 :  truth , distance:  8.758380172671444\n",
      "word  5 :  manage , distance:  8.86497045520236\n",
      "word  6 :  needs , distance:  8.897387738394945\n",
      "word  7 :  come , distance:  8.911001753348254\n",
      "word  8 :  social , distance:  8.943323162773268\n",
      "word  9 :  parents , distance:  8.955996938761542\n",
      "word  10 :  born , distance:  8.97261981856625\n"
     ]
    },
    {
     "data": {
      "text/plain": [
       "[[8.326817081435463, 'without'],\n",
       " [8.46623970954703, 'oedipus'],\n",
       " [8.674863917221579, 'process'],\n",
       " [8.758380172671444, 'truth'],\n",
       " [8.86497045520236, 'manage'],\n",
       " [8.897387738394945, 'needs'],\n",
       " [8.911001753348254, 'come'],\n",
       " [8.943323162773268, 'social'],\n",
       " [8.955996938761542, 'parents'],\n",
       " [8.97261981856625, 'born']]"
      ]
     },
     "execution_count": 218,
     "metadata": {},
     "output_type": "execute_result"
    }
   ],
   "source": [
    "word_NN('learning',vecs,vocab_words,context_words)"
   ]
  },
  {
   "cell_type": "code",
   "execution_count": 219,
   "metadata": {},
   "outputs": [
    {
     "name": "stdout",
     "output_type": "stream",
     "text": [
      "word  1 :  science , distance:  8.777987879593649\n",
      "word  2 :  essentially , distance:  8.857901550121118\n",
      "word  3 :  growth , distance:  8.885723358629074\n",
      "word  4 :  performed , distance:  8.895112369778477\n",
      "word  5 :  rapid , distance:  8.93344980312105\n",
      "word  6 :  mathematics , distance:  9.037719296796137\n",
      "word  7 :  conscience , distance:  9.053583368082949\n",
      "word  8 :  history , distance:  9.07399367087357\n",
      "word  9 :  human , distance:  9.106427596149397\n",
      "word  10 :  economic , distance:  9.128577103339907\n"
     ]
    },
    {
     "data": {
      "text/plain": [
       "[[8.777987879593649, 'science'],\n",
       " [8.857901550121118, 'essentially'],\n",
       " [8.885723358629074, 'growth'],\n",
       " [8.895112369778477, 'performed'],\n",
       " [8.93344980312105, 'rapid'],\n",
       " [9.037719296796137, 'mathematics'],\n",
       " [9.053583368082949, 'conscience'],\n",
       " [9.07399367087357, 'history'],\n",
       " [9.106427596149397, 'human'],\n",
       " [9.128577103339907, 'economic']]"
      ]
     },
     "execution_count": 219,
     "metadata": {},
     "output_type": "execute_result"
    }
   ],
   "source": [
    "word_NN('technology',vecs,vocab_words,context_words)"
   ]
  },
  {
   "cell_type": "code",
   "execution_count": 245,
   "metadata": {},
   "outputs": [
    {
     "name": "stdout",
     "output_type": "stream",
     "text": [
      "word  1 :  woman , distance:  6.410727124607442\n",
      "word  2 :  girl , distance:  6.827650516096443\n",
      "word  3 :  eyes , distance:  7.002754701895594\n",
      "word  4 :  face , distance:  7.170910928372448\n",
      "word  5 :  young , distance:  7.183928389349596\n",
      "word  6 :  old , distance:  7.186253758469597\n",
      "word  7 :  like , distance:  7.280689987166963\n",
      "word  8 :  knew , distance:  7.2979458205316785\n",
      "word  9 :  boy , distance:  7.30571107031245\n",
      "word  10 :  always , distance:  7.405187964915076\n"
     ]
    },
    {
     "data": {
      "text/plain": [
       "[[6.410727124607442, 'woman'],\n",
       " [6.827650516096443, 'girl'],\n",
       " [7.002754701895594, 'eyes'],\n",
       " [7.170910928372448, 'face'],\n",
       " [7.183928389349596, 'young'],\n",
       " [7.186253758469597, 'old'],\n",
       " [7.280689987166963, 'like'],\n",
       " [7.2979458205316785, 'knew'],\n",
       " [7.30571107031245, 'boy'],\n",
       " [7.405187964915076, 'always']]"
      ]
     },
     "execution_count": 245,
     "metadata": {},
     "output_type": "execute_result"
    }
   ],
   "source": [
    "word_NN('man',vecs,vocab_words,context_words)"
   ]
  },
  {
   "cell_type": "markdown",
   "metadata": {
    "collapsed": true
   },
   "source": [
    "** Task P7**: Implement the function that aims to solve the analogy problem:\n",
    "A is to B as C is to ?\n",
    "For example, A=King, B=Queen, C=man, and the answer for ? should be ideally woman (you will see that this may not be  the case using the distributed representation).\n",
    "\n",
    "Finds the K-nearest neighbor of a given word in the embedded space. Note: instead of outputing only the nearest neighbor, you should find the K=10 nearest neighbors and see whether there is one in the list that makes sense. You should also exclude the words C in the output list.\n",
    "\n",
    "Also report another set A, B, C and the corresponding answer output by your problem. See if it makes sense to you."
   ]
  },
  {
   "cell_type": "code",
   "execution_count": 269,
   "metadata": {},
   "outputs": [],
   "source": [
    "\n",
    "\n",
    "def find_analogy(A,B,C,vecs,vocab_words,context_words):\n",
    "    ## Input:\n",
    "    #  A, B, C: words A, B, C\n",
    "    #  vecs: the embedding of words, as computed above\n",
    "    #  vocab_words: vocabulary words, as computed in Task P2\n",
    "    #  context_words: context words, as computed in Task P2\n",
    "    ## Output:\n",
    "    #  the word that solves the analogy problem\n",
    "    ## STUDENT: Your code here\n",
    "\n",
    "    ## STUDENT: your code ends\n",
    "    \n",
    "    K = 10 ##K nearest neighbors number\n",
    "    \n",
    "    A_index = vocab_words.index(A)\n",
    "    B_index = vocab_words.index(B)\n",
    "    C_index = vocab_words.index(C)\n",
    "    #this i the target analogy we are trying to find\n",
    "    #i.e find the same distance\n",
    "    analogy_vector = vecs[A_index] - vecs[B_index]\n",
    "    \n",
    "    \n",
    "    distances = []\n",
    "    analogys = []\n",
    "    min_value = 10\n",
    "    min_index = 0\n",
    "    ## Student: your code here\n",
    "    print('word C :', C)\n",
    "    word_NN(C,vecs,vocab_words,context_words)\n",
    "    \n",
    "    #print\n",
    "    print('##find the closest analogy word')\n",
    "    for i in range(len(vocab_words)):\n",
    "        #find the distance between target and current word\n",
    "        \n",
    "        #check if we can add it to the min distance array\n",
    "        if not ((i == A_index) or (i == B_index) or (i == C_index)):\n",
    "            \n",
    "            temp_distance =  (vecs[i]-vecs[C_index]) - (vecs[A_index] - vecs[B_index])\n",
    "            curr_distance = np.sum(np.abs(temp_distance))\n",
    "            \n",
    "            item = [curr_distance, vocab_words[i]]\n",
    "            distances.append(item)\n",
    "            distances.sort(key=lambda x: x[0])\n",
    "            if len(distances)>K:\n",
    "                distances = distances[:-1]\n",
    "    \n",
    "    #alalogy vector\n",
    "    print('Analogy Vector')\n",
    "    for i in range(len(distances)):        \n",
    "        print('word ', (i+1), ': ', distances[i][1], ', distance: ', distances[i][0])\n",
    "    \n",
    "    return \n",
    "\n",
    "            \n",
    "    \n",
    "    "
   ]
  },
  {
   "cell_type": "code",
   "execution_count": 270,
   "metadata": {},
   "outputs": [
    {
     "name": "stdout",
     "output_type": "stream",
     "text": [
      "word C : man\n",
      "word  1 :  woman , distance:  6.410727124607442\n",
      "word  2 :  girl , distance:  6.827650516096443\n",
      "word  3 :  eyes , distance:  7.002754701895594\n",
      "word  4 :  face , distance:  7.170910928372448\n",
      "word  5 :  young , distance:  7.183928389349596\n",
      "word  6 :  old , distance:  7.186253758469597\n",
      "word  7 :  like , distance:  7.280689987166963\n",
      "word  8 :  knew , distance:  7.2979458205316785\n",
      "word  9 :  boy , distance:  7.30571107031245\n",
      "word  10 :  always , distance:  7.405187964915076\n",
      "##find the closest analogy word\n",
      "Analogy Vector\n",
      "word  1 :  girl , distance:  10.329135380334042\n",
      "word  2 :  boy , distance:  10.884661667583492\n",
      "word  3 :  woman , distance:  10.943734306073692\n",
      "word  4 :  told , distance:  11.03715657191081\n",
      "word  5 :  sure , distance:  11.204279400785927\n",
      "word  6 :  young , distance:  11.308436976718898\n",
      "word  7 :  knew , distance:  11.31904070509167\n",
      "word  8 :  looked , distance:  11.359438202781092\n",
      "word  9 :  little , distance:  11.38470684804385\n",
      "word  10 :  nobody , distance:  11.420134538841019\n"
     ]
    }
   ],
   "source": [
    "find_analogy('king','queen','man',vecs,vocab_words,context_words)"
   ]
  },
  {
   "cell_type": "code",
   "execution_count": 271,
   "metadata": {},
   "outputs": [
    {
     "name": "stdout",
     "output_type": "stream",
     "text": [
      "word C : sun\n",
      "word  1 :  dark , distance:  6.772347182895625\n",
      "word  2 :  sky , distance:  7.065791299523035\n",
      "word  3 :  closed , distance:  7.351822100853409\n",
      "word  4 :  summer , distance:  7.462575087008521\n",
      "word  5 :  winter , distance:  7.73579875947523\n",
      "word  6 :  light , distance:  7.767217152276824\n",
      "word  7 :  rain , distance:  7.85852884758378\n",
      "word  8 :  hot , distance:  7.875763755323924\n",
      "word  9 :  eyes , distance:  7.885971716761253\n",
      "word  10 :  afternoon , distance:  7.905353056834486\n",
      "##find the closest analogy word\n",
      "Analogy Vector\n",
      "word  1 :  woods , distance:  12.287382968483323\n",
      "word  2 :  sky , distance:  12.29280447894772\n",
      "word  3 :  riding , distance:  12.350927411619075\n",
      "word  4 :  weather , distance:  12.385373173587054\n",
      "word  5 :  periods , distance:  12.440260924883207\n",
      "word  6 :  late , distance:  12.459240311078803\n",
      "word  7 :  color , distance:  12.507736710266936\n",
      "word  8 :  rest , distance:  12.54358189538039\n",
      "word  9 :  tired , distance:  12.546165174927873\n",
      "word  10 :  warm , distance:  12.618628647094694\n"
     ]
    }
   ],
   "source": [
    "find_analogy('soil','grass','sun',vecs,vocab_words,context_words)"
   ]
  },
  {
   "cell_type": "code",
   "execution_count": null,
   "metadata": {},
   "outputs": [],
   "source": []
  }
 ],
 "metadata": {
  "kernelspec": {
   "display_name": "Python 3",
   "language": "python",
   "name": "python3"
  },
  "language_info": {
   "codemirror_mode": {
    "name": "ipython",
    "version": 3
   },
   "file_extension": ".py",
   "mimetype": "text/x-python",
   "name": "python",
   "nbconvert_exporter": "python",
   "pygments_lexer": "ipython3",
   "version": "3.6.4"
  },
  "toc": {
   "colors": {
    "hover_highlight": "#DAA520",
    "navigate_num": "#000000",
    "navigate_text": "#333333",
    "running_highlight": "#FF0000",
    "selected_highlight": "#FFD700",
    "sidebar_border": "#EEEEEE",
    "wrapper_background": "#FFFFFF"
   },
   "moveMenuLeft": true,
   "nav_menu": {
    "height": "12px",
    "width": "252px"
   },
   "navigate_menu": true,
   "number_sections": false,
   "sideBar": true,
   "threshold": 4,
   "toc_cell": false,
   "toc_section_display": "block",
   "toc_window_display": false,
   "widenNotebook": false
  }
 },
 "nbformat": 4,
 "nbformat_minor": 2
}
