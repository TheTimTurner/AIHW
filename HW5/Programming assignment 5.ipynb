{
 "cells": [
  {
   "cell_type": "markdown",
   "metadata": {},
   "source": [
    "# Distributed Representation for Word Embeddings"
   ]
  },
  {
   "cell_type": "markdown",
   "metadata": {},
   "source": [
    "In this programming assignment, we will experiment with distributed representations of words. We'll also see how such an embedding can be constructed by applying principal component analysis to a suitably transformed matrix of word co-occurrence probabilities. For computational reasons, we'll use the moderately sized **Brown corpus of present-day American English** for this."
   ]
  },
  {
   "cell_type": "markdown",
   "metadata": {},
   "source": [
    "## 1. Accessing the Brown corpus"
   ]
  },
  {
   "cell_type": "markdown",
   "metadata": {},
   "source": [
    "The *Brown corpus* is available as part of the Python Natural Language Toolkit (`nltk`)."
   ]
  },
  {
   "cell_type": "code",
   "execution_count": 1,
   "metadata": {},
   "outputs": [
    {
     "name": "stdout",
     "output_type": "stream",
     "text": [
      "[nltk_data] Downloading package brown to\n",
      "[nltk_data]     C:\\Users\\kuent\\AppData\\Roaming\\nltk_data...\n",
      "[nltk_data]   Package brown is already up-to-date!\n",
      "[nltk_data] Downloading package stopwords to\n",
      "[nltk_data]     C:\\Users\\kuent\\AppData\\Roaming\\nltk_data...\n",
      "[nltk_data]   Package stopwords is already up-to-date!\n"
     ]
    }
   ],
   "source": [
    "import numpy as np\n",
    "import pickle\n",
    "import nltk\n",
    "nltk.download('brown')\n",
    "nltk.download('stopwords')\n",
    "from nltk.corpus import brown, stopwords\n",
    "from scipy.cluster.vq import kmeans2\n",
    "from sklearn.decomposition import PCA"
   ]
  },
  {
   "cell_type": "markdown",
   "metadata": {},
   "source": [
    "The corpus consists of 500 samples of text drawn from a wide range of sources. When these are concatenated, they form a very long stream of over a million words, which is available as `brown.words()`. Let's look at the first 50 words."
   ]
  },
  {
   "cell_type": "code",
   "execution_count": 2,
   "metadata": {},
   "outputs": [
    {
     "name": "stdout",
     "output_type": "stream",
     "text": [
      "The\n",
      "Fulton\n",
      "County\n",
      "Grand\n",
      "Jury\n",
      "said\n",
      "Friday\n",
      "an\n",
      "investigation\n",
      "of\n",
      "Atlanta's\n",
      "recent\n",
      "primary\n",
      "election\n",
      "produced\n",
      "``\n",
      "no\n",
      "evidence\n",
      "''\n",
      "that\n"
     ]
    }
   ],
   "source": [
    "for i in range(20):\n",
    "    print (brown.words()[i],)"
   ]
  },
  {
   "cell_type": "markdown",
   "metadata": {},
   "source": [
    "Before doing anything else, let's remove stopwords and punctuation and make everything lowercase. The resulting sequence will be stored in `my_word_stream`."
   ]
  },
  {
   "cell_type": "code",
   "execution_count": 3,
   "metadata": {},
   "outputs": [],
   "source": [
    "my_stopwords = set(stopwords.words('english'))\n",
    "word_stream = [str(w).lower() for w in brown.words() if w.lower() not in my_stopwords]\n",
    "my_word_stream = [w for w in word_stream if (len(w) > 1 and w.isalnum())]"
   ]
  },
  {
   "cell_type": "markdown",
   "metadata": {},
   "source": [
    "Here are the initial 20 words in `my_word_stream`."
   ]
  },
  {
   "cell_type": "code",
   "execution_count": 4,
   "metadata": {},
   "outputs": [
    {
     "data": {
      "text/plain": [
       "['fulton',\n",
       " 'county',\n",
       " 'grand',\n",
       " 'jury',\n",
       " 'said',\n",
       " 'friday',\n",
       " 'investigation',\n",
       " 'recent',\n",
       " 'primary',\n",
       " 'election',\n",
       " 'produced',\n",
       " 'evidence',\n",
       " 'irregularities',\n",
       " 'took',\n",
       " 'place',\n",
       " 'jury',\n",
       " 'said',\n",
       " 'presentments',\n",
       " 'city',\n",
       " 'executive']"
      ]
     },
     "execution_count": 4,
     "metadata": {},
     "output_type": "execute_result"
    }
   ],
   "source": [
    "my_word_stream[:20]"
   ]
  },
  {
   "cell_type": "markdown",
   "metadata": {},
   "source": [
    "## 2. Computing co-occurrence probabilities"
   ]
  },
  {
   "cell_type": "markdown",
   "metadata": {},
   "source": [
    "**Task P1**: Complete the following code to get a list of words and their counts. Report how many times does the word \"evidence\" and \"investigation\" appears in the corpus."
   ]
  },
  {
   "cell_type": "code",
   "execution_count": 5,
   "metadata": {},
   "outputs": [],
   "source": [
    "N = len(my_word_stream)\n",
    "words = []\n",
    "totals = {}\n",
    "\n",
    "## STUDENT: Your code here\n",
    "# words: a python list of unique words in the document my_word_stream as the vocabulary\n",
    "# totals: a python dictionary, where each word is a key, and the corresponding value\n",
    "#         is the number of times this word appears in the document my_word_stream\n",
    "\n",
    "\n",
    "for i in range(N):\n",
    "   \n",
    "    curr_word = my_word_stream[i]\n",
    "    if totals.get(curr_word) is None:\n",
    "        totals[curr_word]=1\n",
    "    elif totals.get(curr_word) > 0:\n",
    "         totals[curr_word]+=1\n",
    "    \n",
    "    if totals[curr_word] == 1:\n",
    "        words.append(curr_word)\n",
    "    \n",
    "\n",
    "    \n",
    "## STUDENT CODE ENDS"
   ]
  },
  {
   "cell_type": "code",
   "execution_count": 6,
   "metadata": {},
   "outputs": [
    {
     "name": "stdout",
     "output_type": "stream",
     "text": [
      "Word \" produced \" appears  90  times\n",
      "Word \" friday \" appears  60  times\n"
     ]
    }
   ],
   "source": [
    "## STUDENT: Report how many times does the word \"evidence\" and \"investigation\" appears in the corpus.\n",
    "\n",
    "print ('Word \"',words[10],'\" appears ',totals[words[10]], ' times')\n",
    "print ('Word \"',words[5],'\" appears ',totals[words[5]], ' times')\n"
   ]
  },
  {
   "cell_type": "markdown",
   "metadata": {},
   "source": [
    "** Task P2**: Decide on the vocabulary. There are two potentially distinct vocabularies: the words for which we will obtain embeddings (`vocab_words`) and the words we will consider when looking at context information (`context_words`). We will take the former to be all words that occur at least 20 times, and the latter to be all words that occur at least 100 times. We will stick to these choices for this assignment, but feel free to play around with them and find something better.\n",
    "\n",
    "How large are these two word lists? Note down these numbers."
   ]
  },
  {
   "cell_type": "code",
   "execution_count": 7,
   "metadata": {},
   "outputs": [
    {
     "name": "stdout",
     "output_type": "stream",
     "text": [
      "447\n",
      "Number of vocabulary words  4720 ;\n",
      "Number of context words  918 ;\n"
     ]
    }
   ],
   "source": [
    "## STUDENT: Your code here\n",
    "    \n",
    "vocab_words = [] # a list of words whose occurances (totals) are > 19\n",
    "context_words = []  # a list of words whose occurances (totals) are > 99\n",
    "\n",
    "for i in range(len(words)):\n",
    "    if (words[i]=='fact') :\n",
    "        print(totals[words[i]])\n",
    "    if (totals[words[i]]>99):\n",
    "        context_words.append(words[i])\n",
    "    if (totals[words[i]] > 19):\n",
    "        vocab_words.append(words[i])\n",
    "\n",
    "## STUDENT CODE ENDS\n",
    "print ('Number of vocabulary words ',len(vocab_words), ';')\n",
    "print ('Number of context words ',len(context_words), ';' )\n"
   ]
  },
  {
   "cell_type": "markdown",
   "metadata": {},
   "source": [
    "**Task P3**: Get co-occurrence counts. These are defined as follows, for a small constant `window_size=2`.\n",
    "\n",
    "* Let `w0` be any word in `vocab_words` and `w` any word in `context_words`.\n",
    "* Each time `w0` occurs in the corpus, look at the window of `window_size` words before and after it. If `w` appears in this window, we say it appears in the context of (this particular occurrence of) `w0`.\n",
    "* Define `counts[w0][w]` as the total number of times `w` occurs in the context of `w0`.\n",
    "\n",
    "Complete the function `get_counts`, which computes the `counts` array and returns it as a dictionary (of dictionaries). Find how many times the word \"fact\" appears in the context of ”evidence\" with window_size=2."
   ]
  },
  {
   "cell_type": "code",
   "execution_count": 8,
   "metadata": {},
   "outputs": [],
   "source": [
    "def get_counts(window_size=2):\n",
    "    ## Input:\n",
    "    #  window_size: for each word w0, its context includes window_size words before and after it. \n",
    "    #  For instance, if window_size = 2, it means we look at w1 w2 w0 w3 w4, where  w1, w2, w3, w4 are \n",
    "    #  context words\n",
    "    ## Output:\n",
    "    #  counts: a python dictionary (of dictionaries) where counts[w0][w] indicate the number of times the word w appears \n",
    "    #  in the context of w0 (Note: counts[w0] is also a python dictionary)\n",
    "    \n",
    "    counts = {}\n",
    "   \n",
    "    a = 0\n",
    "    for w0 in vocab_words:\n",
    "        counts[w0] = {}\n",
    "        for i in range(len(my_word_stream)):\n",
    "            #we are on w0 the current word in our count query\n",
    "            if my_word_stream[i] == w0:\n",
    "                #get current window (w1,w2,w3,w4) in relation to the current word\n",
    "                for j in range(window_size):\n",
    "                    #get the upper and lower index ex. w2 w3\n",
    "                    lower = i-j-1\n",
    "                    upper = i+j+1\n",
    "                    #do upper W\n",
    "                    \n",
    "                    if upper<len(my_word_stream):\n",
    "                        #if a word is a context word\n",
    "                        if my_word_stream[upper] in context_words:\n",
    "                            if counts[w0].get(my_word_stream[upper]) is None:\n",
    "                                counts[w0][my_word_stream[upper]]=1\n",
    "                            elif counts[w0].get(my_word_stream[upper]) >= 0:\n",
    "                                counts[w0][my_word_stream[upper]]+=1\n",
    "\n",
    "                    #do lower W\n",
    "                    if lower>0:\n",
    "                        #if a word is a context word\n",
    "                        if my_word_stream[lower] in context_words:\n",
    "                            if counts[w0].get(my_word_stream[lower]) is None:\n",
    "                                counts[w0][my_word_stream[lower]]=1\n",
    "                            elif counts[w0].get(my_word_stream[lower]) >= 0:\n",
    "                                counts[w0][my_word_stream[lower]]+=1\n",
    "        a+=1\n",
    "        #print(a, end=', ')\n",
    "    ## End of codes\n",
    "    return counts"
   ]
  },
  {
   "cell_type": "code",
   "execution_count": 9,
   "metadata": {},
   "outputs": [
    {
     "name": "stdout",
     "output_type": "stream",
     "text": [
      "4\n"
     ]
    }
   ],
   "source": [
    "## STUDENT: Report how many times the word \"fact\" appears in the context of ”evidence\".\n",
    "\n",
    "counts = get_counts(window_size=2)\n",
    "\n",
    "print (counts['evidence']['fact'])\n"
   ]
  },
  {
   "cell_type": "markdown",
   "metadata": {},
   "source": [
    "Define `probs[w0][]` to be the distribution over the context of `w0`, that is:\n",
    "* `probs[w0][w] = counts[w0][w] / (sum of all counts[w0][])`\n",
    "\n",
    "**Task P4**: Finish the function `get_co_occurrence_dictionary` that computes `probs`. Find the probability that the word \"fact\" appears in the context of ”evidence\"."
   ]
  },
  {
   "cell_type": "code",
   "execution_count": 10,
   "metadata": {},
   "outputs": [],
   "source": [
    "def get_co_occurrence_dictionary(counts):\n",
    "    ## Input:\n",
    "    #  counts: a python dictionary (of dictionaries) where counts[w0][w] indicate the number of times the word w appears \n",
    "    #  in the context of w0 (Note: counts[w0] is also a python dictionary)\n",
    "    ## Output:\n",
    "    #  probs: a python dictionary (of dictionaries) where probs[w0][w] indicate the probability that word w appears \n",
    "    #  in the context of word w0\n",
    "    \n",
    "    probs = {}\n",
    "    \n",
    "    ## STUDENT: Your code here\n",
    "    for w0 in counts:\n",
    "        #get the sum\n",
    "        sum = 0\n",
    "        for w in counts[w0]:\n",
    "            sum += counts[w0][w]\n",
    "        \n",
    "        #divide each element \n",
    "        probs[w0]={}\n",
    "        for w in counts[w0]:\n",
    "            curr = counts[w0][w]/sum\n",
    "            probs[w0][w]=curr\n",
    "    ## End of codes\n",
    "    return probs"
   ]
  },
  {
   "cell_type": "code",
   "execution_count": 11,
   "metadata": {},
   "outputs": [
    {
     "name": "stdout",
     "output_type": "stream",
     "text": [
      "0.010723860589812333\n"
     ]
    }
   ],
   "source": [
    "## STUDENT: Report how many times the word \"fact\" appears in the context of ”evidence\".\n",
    "probs = get_co_occurrence_dictionary(counts)\n",
    "print (probs['evidence']['fact'])"
   ]
  },
  {
   "cell_type": "markdown",
   "metadata": {},
   "source": [
    "The final piece of information we need is the frequency of different context words. The function below, `get_context_word_distribution`, takes `counts` as input and returns (again, in dictionary form) the array:\n",
    "\n",
    "* `context_frequency[w]` = sum of all `counts[][w]` / sum of all `counts[][]` "
   ]
  },
  {
   "cell_type": "code",
   "execution_count": 12,
   "metadata": {},
   "outputs": [],
   "source": [
    "def get_context_word_distribution(counts):\n",
    "    counts_context = {}\n",
    "    sum_context = 0\n",
    "    context_frequency = {}\n",
    "    for w in context_words:\n",
    "        counts_context[w] = 0\n",
    "    for w0 in counts.keys():\n",
    "        for w in counts[w0].keys():\n",
    "           \n",
    "            counts_context[w] = counts_context[w] + counts[w0][w]\n",
    "            sum_context = sum_context + counts[w0][w]\n",
    "    for w in context_words:\n",
    "        context_frequency[w] = float(counts_context[w])/float(sum_context)\n",
    "    return context_frequency"
   ]
  },
  {
   "cell_type": "markdown",
   "metadata": {},
   "source": [
    "## 3. The embedding"
   ]
  },
  {
   "cell_type": "markdown",
   "metadata": {},
   "source": [
    "**Task P5**: Based on the various pieces of information above, we compute the **pointwise mutual information matrix**:\n",
    "* `PMI[i,j] = MAX(0, log probs[ith vocab word][jth context word] - log context_frequency[jth context word])`\n",
    "\n",
    "Complete the code to compute PMI for every word i and context word j. Report the output of the code."
   ]
  },
  {
   "cell_type": "code",
   "execution_count": 13,
   "metadata": {},
   "outputs": [
    {
     "name": "stdout",
     "output_type": "stream",
     "text": [
      "Computing counts and distributions\n",
      "Computing pointwise mutual information\n"
     ]
    }
   ],
   "source": [
    "print (\"Computing counts and distributions\")\n",
    "counts = get_counts(2)\n",
    "probs = get_co_occurrence_dictionary(counts)\n",
    "context_frequency = get_context_word_distribution(counts)\n",
    "\n",
    "print (\"Computing pointwise mutual information\")\n",
    "n_vocab = len(vocab_words)\n",
    "n_context = len(context_words)\n",
    "pmi = np.zeros((n_vocab, n_context))\n",
    "for i in range(0, n_vocab):\n",
    "    w0 = vocab_words[i]\n",
    "    for w in probs[w0].keys():\n",
    "        j = context_words.index(w)\n",
    "        ## STUDENT: Your code here\n",
    "        probs_log = np.log(probs[vocab_words[i]][context_words[j]]) \n",
    "        context_log = np.log(context_frequency[context_words[j]]) \n",
    "        diff = probs_log - context_log\n",
    "        pmi[i,j] = max(0, diff)\n",
    "        ## Student end of code"
   ]
  },
  {
   "cell_type": "code",
   "execution_count": 14,
   "metadata": {},
   "outputs": [
    {
     "name": "stdout",
     "output_type": "stream",
     "text": [
      "1.6886695253770467\n"
     ]
    }
   ],
   "source": [
    "# STUDENT: report the following number\n",
    "\n",
    "print (pmi[vocab_words.index('evidence'),context_words.index('fact')])"
   ]
  },
  {
   "cell_type": "markdown",
   "metadata": {},
   "source": [
    "The embedding of any word can then be taken as the corresponding row of this matrix. However, to reduce the dimension, we will apply principal component analysis (PCA).\n",
    "\n",
    "See this nice tutorial on PCA: https://www.youtube.com/watch?v=fkf4IBRSeEc\n",
    "\n",
    "Now reduce the dimension of the PMI vectors using principal component analysis. Here we bring it down to 100 dimensions, and then normalize the vectors to unit length."
   ]
  },
  {
   "cell_type": "code",
   "execution_count": 15,
   "metadata": {},
   "outputs": [],
   "source": [
    "pca = PCA(n_components=100)\n",
    "\n",
    "vecs = pca.fit_transform(pmi)\n",
    "for i in range(0,n_vocab):\n",
    "   \n",
    "    vecs[i] = vecs[i]/np.linalg.norm(vecs[i])\n",
    "    "
   ]
  },
  {
   "cell_type": "markdown",
   "metadata": {},
   "source": [
    "It is useful to save this embedding so that it doesn't need to be computed every time."
   ]
  },
  {
   "cell_type": "code",
   "execution_count": 16,
   "metadata": {},
   "outputs": [],
   "source": [
    "fd = open(\"embedding.pickle\", \"wb\")\n",
    "pickle.dump(vocab_words, fd)\n",
    "pickle.dump(context_words, fd)\n",
    "pickle.dump(vecs, fd)\n",
    "fd.close()"
   ]
  },
  {
   "cell_type": "code",
   "execution_count": 17,
   "metadata": {},
   "outputs": [
    {
     "name": "stdout",
     "output_type": "stream",
     "text": [
      "4720\n",
      "100\n"
     ]
    }
   ],
   "source": [
    "print(len(vecs))\n",
    "print(len(vecs[0]))"
   ]
  },
  {
   "cell_type": "markdown",
   "metadata": {},
   "source": [
    "## 4. Experimenting with the embedding"
   ]
  },
  {
   "cell_type": "markdown",
   "metadata": {},
   "source": [
    "We can get some insight into the embedding by looking at some intersting use cases.\n",
    "\n",
    "** Task P6**: Implement the following function that finds the nearest neighbor of a given word in the embedded space. Note down the answers to the following queries. "
   ]
  },
  {
   "cell_type": "code",
   "execution_count": 18,
   "metadata": {},
   "outputs": [],
   "source": [
    "def word_NN(w,vecs,vocab_words,context_words):\n",
    "    ## Input:\n",
    "    #  w: word w\n",
    "    #  vecs: the embedding of words, as computed above\n",
    "    #  vocab_words: vocabulary words, as computed in Task P2\n",
    "    #  context_words: context words, as computed in Task P2\n",
    "    ## Output:\n",
    "    #  the nearest neighbor (word) to word w\n",
    "    if not(w in vocab_words):\n",
    "        print (\"Unknown word\")\n",
    "        return\n",
    "    ## Student: your code here\n",
    "    K = 10 ##K nearest neighbors number\n",
    "    \n",
    "    word_index = vocab_words.index(w)\n",
    "    distances = []\n",
    "    min_value = 10\n",
    "    min_index = 0\n",
    "    \n",
    "    for i in range(len(vocab_words)):\n",
    "        #find the distance between target and current word\n",
    "       \n",
    "        curr_distance = np.sum(np.abs(vecs[i]-vecs[word_index]))\n",
    "        #check if we can add it to the min distance array\n",
    "        if not i == word_index:\n",
    "            item = [curr_distance, vocab_words[i]]\n",
    "            distances.append(item)\n",
    "            distances.sort(key=lambda x: x[0])\n",
    "            if len(distances)>K:\n",
    "                distances = distances[:-1]\n",
    "    \n",
    "    for i in range(len(distances)):        \n",
    "        print('word ', (i+1), ': ', distances[i][1], ', distance: ', distances[i][0])\n",
    "    \n",
    "    return #distances\n",
    "    ## Student: code ends"
   ]
  },
  {
   "cell_type": "code",
   "execution_count": 19,
   "metadata": {},
   "outputs": [
    {
     "name": "stdout",
     "output_type": "stream",
     "text": [
      "word  1 :  nations , distance:  6.877916570278157\n",
      "word  2 :  war , distance:  6.969618721769938\n",
      "word  3 :  nation , distance:  7.122556270029804\n",
      "word  4 :  western , distance:  7.360440104616559\n",
      "word  5 :  throughout , distance:  7.460313859298387\n",
      "word  6 :  peace , distance:  7.599038904776487\n",
      "word  7 :  freedom , distance:  7.622569459527499\n",
      "word  8 :  america , distance:  7.799434896235929\n",
      "word  9 :  asia , distance:  7.9017783464625015\n",
      "word  10 :  south , distance:  7.954507909239836\n"
     ]
    }
   ],
   "source": [
    "word_NN('world',vecs,vocab_words,context_words)"
   ]
  },
  {
   "cell_type": "code",
   "execution_count": 20,
   "metadata": {},
   "outputs": [
    {
     "name": "stdout",
     "output_type": "stream",
     "text": [
      "word  1 :  parents , distance:  8.604727362408644\n",
      "word  2 :  gentle , distance:  8.652300284384566\n",
      "word  3 :  economy , distance:  8.653243704892715\n",
      "word  4 :  looking , distance:  8.747817263429937\n",
      "word  5 :  opportunities , distance:  8.836830814449725\n",
      "word  6 :  wants , distance:  8.844197351323471\n",
      "word  7 :  oedipus , distance:  8.902190890942961\n",
      "word  8 :  create , distance:  8.943744073921502\n",
      "word  9 :  seemed , distance:  8.967263504181352\n",
      "word  10 :  need , distance:  9.024116008166732\n"
     ]
    }
   ],
   "source": [
    "word_NN('learning',vecs,vocab_words,context_words)"
   ]
  },
  {
   "cell_type": "code",
   "execution_count": 21,
   "metadata": {},
   "outputs": [
    {
     "name": "stdout",
     "output_type": "stream",
     "text": [
      "word  1 :  ambassador , distance:  8.368634826298003\n",
      "word  2 :  science , distance:  8.525797821270752\n",
      "word  3 :  strength , distance:  8.844612571144653\n",
      "word  4 :  conscience , distance:  8.855054774026609\n",
      "word  5 :  danger , distance:  8.86888871141062\n",
      "word  6 :  studies , distance:  8.872765711356017\n",
      "word  7 :  growth , distance:  8.89661403955983\n",
      "word  8 :  crises , distance:  8.898497668762708\n",
      "word  9 :  development , distance:  8.95620418068267\n",
      "word  10 :  human , distance:  9.035334530680265\n"
     ]
    }
   ],
   "source": [
    "word_NN('technology',vecs,vocab_words,context_words)"
   ]
  },
  {
   "cell_type": "code",
   "execution_count": 22,
   "metadata": {},
   "outputs": [
    {
     "name": "stdout",
     "output_type": "stream",
     "text": [
      "word  1 :  woman , distance:  6.226839511299113\n",
      "word  2 :  boy , distance:  6.840669841549554\n",
      "word  3 :  love , distance:  7.12741543362111\n",
      "word  4 :  eyes , distance:  7.131648645417146\n",
      "word  5 :  told , distance:  7.295257251792261\n",
      "word  6 :  young , distance:  7.302713915365262\n",
      "word  7 :  saw , distance:  7.323488059937445\n",
      "word  8 :  like , distance:  7.328105784657061\n",
      "word  9 :  oh , distance:  7.343064883590006\n",
      "word  10 :  god , distance:  7.369182327175206\n"
     ]
    }
   ],
   "source": [
    "word_NN('man',vecs,vocab_words,context_words)"
   ]
  },
  {
   "cell_type": "markdown",
   "metadata": {
    "collapsed": true
   },
   "source": [
    "** Task P7**: Implement the function that aims to solve the analogy problem:\n",
    "A is to B as C is to ?\n",
    "For example, A=King, B=Queen, C=man, and the answer for ? should be ideally woman (you will see that this may not be  the case using the distributed representation).\n",
    "\n",
    "Finds the K-nearest neighbor of a given word in the embedded space. Note: instead of outputing only the nearest neighbor, you should find the K=10 nearest neighbors and see whether there is one in the list that makes sense. You should also exclude the words C in the output list.\n",
    "\n",
    "Also report another set A, B, C and the corresponding answer output by your problem. See if it makes sense to you."
   ]
  },
  {
   "cell_type": "code",
   "execution_count": 23,
   "metadata": {},
   "outputs": [],
   "source": [
    "\n",
    "\n",
    "def find_analogy(A,B,C,vecs,vocab_words,context_words):\n",
    "    ## Input:\n",
    "    #  A, B, C: words A, B, C\n",
    "    #  vecs: the embedding of words, as computed above\n",
    "    #  vocab_words: vocabulary words, as computed in Task P2\n",
    "    #  context_words: context words, as computed in Task P2\n",
    "    ## Output:\n",
    "    #  the word that solves the analogy problem\n",
    "    ## STUDENT: Your code here\n",
    "\n",
    "    ## STUDENT: your code ends\n",
    "    \n",
    "    K = 10 ##K nearest neighbors number\n",
    "    \n",
    "    A_index = vocab_words.index(A)\n",
    "    B_index = vocab_words.index(B)\n",
    "    C_index = vocab_words.index(C)\n",
    "    #this i the target analogy we are trying to find\n",
    "    #i.e find the same distance\n",
    "    analogy_vector = vecs[A_index] - vecs[B_index]\n",
    "    \n",
    "    \n",
    "    distances = []\n",
    "    analogys = []\n",
    "    min_value = 10\n",
    "    min_index = 0\n",
    "    ## Student: your code here\n",
    "    print('word C :', C)\n",
    "    word_NN(C,vecs,vocab_words,context_words)\n",
    "    \n",
    "    #print\n",
    "    print('##find the closest analogy word')\n",
    "    for i in range(len(vocab_words)):\n",
    "        #find the distance between target and current word\n",
    "        \n",
    "        #check if we can add it to the min distance array\n",
    "        if not ((i == A_index) or (i == B_index) or (i == C_index)):\n",
    "            \n",
    "            temp_distance =  (vecs[i]-vecs[C_index]) - (vecs[A_index] - vecs[B_index])\n",
    "            curr_distance = np.sum(np.abs(temp_distance))\n",
    "            \n",
    "            item = [curr_distance, vocab_words[i]]\n",
    "            distances.append(item)\n",
    "            distances.sort(key=lambda x: x[0])\n",
    "            if len(distances)>K:\n",
    "                distances = distances[:-1]\n",
    "    \n",
    "    #alalogy vector\n",
    "    print('Analogy Vector')\n",
    "    for i in range(len(distances)):        \n",
    "        print('word ', (i+1), ': ', distances[i][1], ', distance: ', distances[i][0])\n",
    "    \n",
    "    return \n",
    "\n",
    "            \n",
    "    \n",
    "    "
   ]
  },
  {
   "cell_type": "code",
   "execution_count": 24,
   "metadata": {},
   "outputs": [
    {
     "name": "stdout",
     "output_type": "stream",
     "text": [
      "word C : man\n",
      "word  1 :  woman , distance:  6.226839511299113\n",
      "word  2 :  boy , distance:  6.840669841549554\n",
      "word  3 :  love , distance:  7.12741543362111\n",
      "word  4 :  eyes , distance:  7.131648645417146\n",
      "word  5 :  told , distance:  7.295257251792261\n",
      "word  6 :  young , distance:  7.302713915365262\n",
      "word  7 :  saw , distance:  7.323488059937445\n",
      "word  8 :  like , distance:  7.328105784657061\n",
      "word  9 :  oh , distance:  7.343064883590006\n",
      "word  10 :  god , distance:  7.369182327175206\n",
      "##find the closest analogy word\n",
      "Analogy Vector\n",
      "word  1 :  woman , distance:  10.061142258458705\n",
      "word  2 :  boy , distance:  10.476734645070907\n",
      "word  3 :  girl , distance:  10.63418777930663\n",
      "word  4 :  told , distance:  10.764293080034674\n",
      "word  5 :  name , distance:  11.07990844461859\n",
      "word  6 :  hard , distance:  11.129832270502733\n",
      "word  7 :  kid , distance:  11.158816572916967\n",
      "word  8 :  tell , distance:  11.19945476767176\n",
      "word  9 :  asked , distance:  11.226796450480647\n",
      "word  10 :  letter , distance:  11.236793116419157\n"
     ]
    }
   ],
   "source": [
    "find_analogy('king','queen','man',vecs,vocab_words,context_words)"
   ]
  },
  {
   "cell_type": "code",
   "execution_count": 25,
   "metadata": {},
   "outputs": [
    {
     "name": "stdout",
     "output_type": "stream",
     "text": [
      "word C : sun\n",
      "word  1 :  dark , distance:  7.1369264753958275\n",
      "word  2 :  light , distance:  7.318982859125289\n",
      "word  3 :  summer , distance:  7.474669912460736\n",
      "word  4 :  closed , distance:  7.578717831240369\n",
      "word  5 :  eyes , distance:  7.595335506069206\n",
      "word  6 :  night , distance:  7.629396080988193\n",
      "word  7 :  water , distance:  7.677568523744127\n",
      "word  8 :  came , distance:  7.7261509889815\n",
      "word  9 :  wet , distance:  7.742974084853672\n",
      "word  10 :  day , distance:  7.751047695194663\n",
      "##find the closest analogy word\n",
      "Analogy Vector\n",
      "word  1 :  summer , distance:  11.667735990397787\n",
      "word  2 :  full , distance:  11.68015555185652\n",
      "word  3 :  day , distance:  11.89697926108543\n",
      "word  4 :  light , distance:  11.965518047833534\n",
      "word  5 :  fruit , distance:  12.04133681429952\n",
      "word  6 :  chemical , distance:  12.100189708027472\n",
      "word  7 :  engagement , distance:  12.136707336725845\n",
      "word  8 :  miss , distance:  12.16441861592813\n",
      "word  9 :  rest , distance:  12.176460527821732\n",
      "word  10 :  shade , distance:  12.223272856219143\n"
     ]
    }
   ],
   "source": [
    "find_analogy('soil','grass','sun',vecs,vocab_words,context_words)"
   ]
  },
  {
   "cell_type": "code",
   "execution_count": null,
   "metadata": {},
   "outputs": [],
   "source": []
  }
 ],
 "metadata": {
  "kernelspec": {
   "display_name": "Python 3",
   "language": "python",
   "name": "python3"
  },
  "language_info": {
   "codemirror_mode": {
    "name": "ipython",
    "version": 3
   },
   "file_extension": ".py",
   "mimetype": "text/x-python",
   "name": "python",
   "nbconvert_exporter": "python",
   "pygments_lexer": "ipython3",
   "version": "3.6.4"
  },
  "toc": {
   "colors": {
    "hover_highlight": "#DAA520",
    "navigate_num": "#000000",
    "navigate_text": "#333333",
    "running_highlight": "#FF0000",
    "selected_highlight": "#FFD700",
    "sidebar_border": "#EEEEEE",
    "wrapper_background": "#FFFFFF"
   },
   "moveMenuLeft": true,
   "nav_menu": {
    "height": "12px",
    "width": "252px"
   },
   "navigate_menu": true,
   "number_sections": false,
   "sideBar": true,
   "threshold": 4,
   "toc_cell": false,
   "toc_section_display": "block",
   "toc_window_display": false,
   "widenNotebook": false
  }
 },
 "nbformat": 4,
 "nbformat_minor": 2
}
